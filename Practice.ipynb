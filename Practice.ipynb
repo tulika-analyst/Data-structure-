{
 "cells": [
  {
   "cell_type": "code",
   "execution_count": 3,
   "id": "5478d606-4034-402d-9d56-a60ca1c90aa1",
   "metadata": {
    "tags": []
   },
   "outputs": [
    {
     "name": "stdout",
     "output_type": "stream",
     "text": [
      "hello world\n"
     ]
    }
   ],
   "source": [
    "print('hello world')"
   ]
  },
  {
   "cell_type": "code",
   "execution_count": 4,
   "id": "ed1851ae-1e1e-47ec-9109-7cc29ebf0321",
   "metadata": {},
   "outputs": [],
   "source": [
    "a = 3"
   ]
  },
  {
   "cell_type": "code",
   "execution_count": 5,
   "id": "b59aeb47-29c3-4cc2-a0ba-2bc63f83948b",
   "metadata": {},
   "outputs": [
    {
     "data": {
      "text/plain": [
       "3"
      ]
     },
     "execution_count": 5,
     "metadata": {},
     "output_type": "execute_result"
    }
   ],
   "source": [
    "a"
   ]
  },
  {
   "cell_type": "code",
   "execution_count": 6,
   "id": "93b1e2b5-0daf-4736-bd1b-47f3ce97f5b6",
   "metadata": {},
   "outputs": [
    {
     "data": {
      "text/plain": [
       "float"
      ]
     },
     "execution_count": 6,
     "metadata": {},
     "output_type": "execute_result"
    }
   ],
   "source": [
    "c=8.3\n",
    "type(c)"
   ]
  },
  {
   "cell_type": "code",
   "execution_count": 8,
   "id": "61f0b3fe-3568-4532-9552-1a36dd4a748b",
   "metadata": {},
   "outputs": [
    {
     "data": {
      "text/plain": [
       "bool"
      ]
     },
     "execution_count": 8,
     "metadata": {},
     "output_type": "execute_result"
    }
   ],
   "source": [
    "a = True\n",
    "type(a)"
   ]
  },
  {
   "cell_type": "code",
   "execution_count": 9,
   "id": "5e6d329c-4a14-46bb-939b-3b7783fb88ac",
   "metadata": {},
   "outputs": [
    {
     "name": "stdout",
     "output_type": "stream",
     "text": [
      "\n",
      "Here is a list of the Python keywords.  Enter any keyword to get more help.\n",
      "\n",
      "False               class               from                or\n",
      "None                continue            global              pass\n",
      "True                def                 if                  raise\n",
      "and                 del                 import              return\n",
      "as                  elif                in                  try\n",
      "assert              else                is                  while\n",
      "async               except              lambda              with\n",
      "await               finally             nonlocal            yield\n",
      "break               for                 not                 \n",
      "\n"
     ]
    }
   ],
   "source": [
    "help('keywords')"
   ]
  },
  {
   "cell_type": "code",
   "execution_count": null,
   "id": "7aeded98-8eef-4369-aa99-ed45da2b3664",
   "metadata": {
    "tags": []
   },
   "outputs": [],
   "source": [
    "a = 5\n",
    "b = 6"
   ]
  },
  {
   "cell_type": "code",
   "execution_count": 10,
   "id": "11662486-0cb2-471a-8600-a039a08121d5",
   "metadata": {},
   "outputs": [
    {
     "data": {
      "text/plain": [
       "6"
      ]
     },
     "execution_count": 10,
     "metadata": {},
     "output_type": "execute_result"
    }
   ],
   "source": [
    "#arithematic operator >> special \n",
    "3 * 2"
   ]
  },
  {
   "cell_type": "code",
   "execution_count": 11,
   "id": "460f9d10-11b0-4ac1-8435-93d316abf1a4",
   "metadata": {},
   "outputs": [
    {
     "data": {
      "text/plain": [
       "57"
      ]
     },
     "execution_count": 11,
     "metadata": {},
     "output_type": "execute_result"
    }
   ],
   "source": [
    "19 * 3\n"
   ]
  },
  {
   "cell_type": "code",
   "execution_count": 12,
   "id": "134155fa-1265-4d07-8b9b-49f8e487f6a1",
   "metadata": {},
   "outputs": [
    {
     "data": {
      "text/plain": [
       "6.0"
      ]
     },
     "execution_count": 12,
     "metadata": {},
     "output_type": "execute_result"
    }
   ],
   "source": [
    "24 / 4"
   ]
  },
  {
   "cell_type": "code",
   "execution_count": 13,
   "id": "18b76cea-a371-457a-b3b0-ca5bd7b9e7b2",
   "metadata": {},
   "outputs": [
    {
     "data": {
      "text/plain": [
       "32"
      ]
     },
     "execution_count": 13,
     "metadata": {},
     "output_type": "execute_result"
    }
   ],
   "source": [
    "2 ** 5\n"
   ]
  },
  {
   "cell_type": "code",
   "execution_count": 14,
   "id": "90be46dc-283c-4293-8f37-3d722696f805",
   "metadata": {},
   "outputs": [
    {
     "data": {
      "text/plain": [
       "False"
      ]
     },
     "execution_count": 14,
     "metadata": {},
     "output_type": "execute_result"
    }
   ],
   "source": [
    "#comparison operator >> compare 2 values/object\n",
    "\n",
    "a = 3\n",
    "b = 4\n",
    "\n",
    "3 > 4"
   ]
  },
  {
   "cell_type": "code",
   "execution_count": 3,
   "id": "878db218-c88a-40cf-a4df-336b2d52c659",
   "metadata": {},
   "outputs": [
    {
     "ename": "SyntaxError",
     "evalue": "cannot assign to literal here. Maybe you meant '==' instead of '='? (2787078623.py, line 1)",
     "output_type": "error",
     "traceback": [
      "\u001b[0;36m  Cell \u001b[0;32mIn[3], line 1\u001b[0;36m\u001b[0m\n\u001b[0;31m    1 = true\u001b[0m\n\u001b[0m    ^\u001b[0m\n\u001b[0;31mSyntaxError\u001b[0m\u001b[0;31m:\u001b[0m cannot assign to literal here. Maybe you meant '==' instead of '='?\n"
     ]
    }
   ],
   "source": [
    "1 = true\n",
    "2 = false\n",
    "\n",
    "True and false "
   ]
  },
  {
   "cell_type": "code",
   "execution_count": 1,
   "id": "a7224764-1447-4795-a767-b612648cfe4c",
   "metadata": {},
   "outputs": [
    {
     "data": {
      "text/plain": [
       "False"
      ]
     },
     "execution_count": 1,
     "metadata": {},
     "output_type": "execute_result"
    }
   ],
   "source": [
    "not True "
   ]
  },
  {
   "cell_type": "code",
   "execution_count": null,
   "id": "e7199466-4e7f-484e-8192-cb48a7c9d2c2",
   "metadata": {},
   "outputs": [],
   "source": [
    "# what is assignement operator"
   ]
  },
  {
   "cell_type": "code",
   "execution_count": 2,
   "id": "f2757675-abaa-4e39-a2f6-e58b5d88aa04",
   "metadata": {},
   "outputs": [
    {
     "ename": "NameError",
     "evalue": "name 'a' is not defined",
     "output_type": "error",
     "traceback": [
      "\u001b[0;31m---------------------------------------------------------------------------\u001b[0m",
      "\u001b[0;31mNameError\u001b[0m                                 Traceback (most recent call last)",
      "Cell \u001b[0;32mIn[2], line 1\u001b[0m\n\u001b[0;32m----> 1\u001b[0m a \u001b[38;5;241m-\u001b[39m\u001b[38;5;241m=\u001b[39m \u001b[38;5;241m2\u001b[39m\n",
      "\u001b[0;31mNameError\u001b[0m: name 'a' is not defined"
     ]
    }
   ],
   "source": [
    "a -= 2"
   ]
  },
  {
   "cell_type": "code",
   "execution_count": null,
   "id": "76aaee3c-a2fc-41fd-9055-66106456a0ef",
   "metadata": {},
   "outputs": [],
   "source": [
    "# membership operations"
   ]
  },
  {
   "cell_type": "code",
   "execution_count": 8,
   "id": "3e8d6388-b08e-4578-b217-95f0c1695e6d",
   "metadata": {},
   "outputs": [],
   "source": [
    "a = ('pwskills')"
   ]
  },
  {
   "cell_type": "code",
   "execution_count": 9,
   "id": "ac80181e-c6f7-4ebb-8e17-5ba07d2a48c5",
   "metadata": {},
   "outputs": [
    {
     "data": {
      "text/plain": [
       "False"
      ]
     },
     "execution_count": 9,
     "metadata": {},
     "output_type": "execute_result"
    }
   ],
   "source": [
    "'t' in a"
   ]
  },
  {
   "cell_type": "code",
   "execution_count": null,
   "id": "8b8c3a31-b637-4a1f-b037-f0caa5e7c302",
   "metadata": {},
   "outputs": [],
   "source": [
    "# identity operator- compare the memory location of two objects"
   ]
  },
  {
   "cell_type": "code",
   "execution_count": 14,
   "id": "28bb2cfa-fcf0-478c-aa52-1a7a852620dc",
   "metadata": {},
   "outputs": [],
   "source": [
    "a = 3\n",
    "b = 5 \n",
    "a = b"
   ]
  },
  {
   "cell_type": "code",
   "execution_count": 15,
   "id": "7684a43b-bf1e-483a-9652-4b6aae3945bf",
   "metadata": {},
   "outputs": [
    {
     "data": {
      "text/plain": [
       "True"
      ]
     },
     "execution_count": 15,
     "metadata": {},
     "output_type": "execute_result"
    }
   ],
   "source": [
    "a is b "
   ]
  },
  {
   "cell_type": "code",
   "execution_count": 16,
   "id": "0636a982-3fc6-4b90-b2df-6cdac2953be2",
   "metadata": {},
   "outputs": [
    {
     "data": {
      "text/plain": [
       "5"
      ]
     },
     "execution_count": 16,
     "metadata": {},
     "output_type": "execute_result"
    }
   ],
   "source": [
    "a"
   ]
  },
  {
   "cell_type": "code",
   "execution_count": 17,
   "id": "cbb06be1-319c-4d32-80a2-8dbab252a6e3",
   "metadata": {},
   "outputs": [
    {
     "data": {
      "text/plain": [
       "5"
      ]
     },
     "execution_count": 17,
     "metadata": {},
     "output_type": "execute_result"
    }
   ],
   "source": [
    "b"
   ]
  },
  {
   "cell_type": "code",
   "execution_count": 18,
   "id": "08e7c75e-21ff-4cfa-9c24-9ee2697dd701",
   "metadata": {},
   "outputs": [
    {
     "data": {
      "text/plain": [
       "True"
      ]
     },
     "execution_count": 18,
     "metadata": {},
     "output_type": "execute_result"
    }
   ],
   "source": [
    "a is b "
   ]
  },
  {
   "cell_type": "code",
   "execution_count": 22,
   "id": "45fec299-1f1d-49f3-b34d-ced2a8e4c480",
   "metadata": {},
   "outputs": [
    {
     "data": {
      "text/plain": [
       "False"
      ]
     },
     "execution_count": 22,
     "metadata": {},
     "output_type": "execute_result"
    }
   ],
   "source": [
    "a = ('pwskills')\n",
    "b = ('pwskills')\n",
    "a is b \n",
    "b is not a "
   ]
  },
  {
   "cell_type": "code",
   "execution_count": null,
   "id": "79e92b95-5d68-43da-9db7-544fe8fe4735",
   "metadata": {},
   "outputs": [],
   "source": [
    "#betwise operator >> operations done at bit levels\n"
   ]
  },
  {
   "cell_type": "code",
   "execution_count": 24,
   "id": "494f6446-c2bf-4d7d-ba0c-d348123602bd",
   "metadata": {},
   "outputs": [
    {
     "data": {
      "text/plain": [
       "10"
      ]
     },
     "execution_count": 24,
     "metadata": {},
     "output_type": "execute_result"
    }
   ],
   "source": [
    "10 & 10 "
   ]
  },
  {
   "cell_type": "markdown",
   "id": "4e5d5613-7b0a-4cb9-819b-2032c03d773a",
   "metadata": {},
   "source": [
    "# bin(10)"
   ]
  },
  {
   "cell_type": "code",
   "execution_count": 26,
   "id": "fa61bd8d-26de-48e7-ac5e-54acc801b541",
   "metadata": {},
   "outputs": [
    {
     "data": {
      "text/plain": [
       "2"
      ]
     },
     "execution_count": 26,
     "metadata": {},
     "output_type": "execute_result"
    }
   ],
   "source": [
    "10 & 3"
   ]
  },
  {
   "cell_type": "code",
   "execution_count": null,
   "id": "6f6083ad-c2a2-48bb-9034-026dad68b531",
   "metadata": {},
   "outputs": [],
   "source": [
    "# 2 is the representation of binary of 2 which is 10"
   ]
  },
  {
   "cell_type": "code",
   "execution_count": 27,
   "id": "36c125d4-d07c-461e-93e7-e8f2f48170c8",
   "metadata": {},
   "outputs": [
    {
     "data": {
      "text/plain": [
       "'0b10'"
      ]
     },
     "execution_count": 27,
     "metadata": {},
     "output_type": "execute_result"
    }
   ],
   "source": [
    "bin(2)"
   ]
  },
  {
   "cell_type": "code",
   "execution_count": null,
   "id": "3ba1053d-d205-4b39-881f-14d7c0c7c84e",
   "metadata": {},
   "outputs": [],
   "source": [
    "# see 10 is the answer if we use binary concept which is & and use | ( pipe operator )\n"
   ]
  },
  {
   "cell_type": "code",
   "execution_count": 28,
   "id": "efe86824-4e47-4f8c-a04d-2d1e906159d3",
   "metadata": {},
   "outputs": [
    {
     "data": {
      "text/plain": [
       "7"
      ]
     },
     "execution_count": 28,
     "metadata": {},
     "output_type": "execute_result"
    }
   ],
   "source": [
    "3 | 5"
   ]
  },
  {
   "cell_type": "code",
   "execution_count": 29,
   "id": "2f0b8b8c-8540-4d69-81e0-41140fbd9e3f",
   "metadata": {},
   "outputs": [
    {
     "data": {
      "text/plain": [
       "'0b111'"
      ]
     },
     "execution_count": 29,
     "metadata": {},
     "output_type": "execute_result"
    }
   ],
   "source": [
    "bin(7) "
   ]
  },
  {
   "cell_type": "code",
   "execution_count": 30,
   "id": "6e0460a6-05ef-448c-8421-145f910622bd",
   "metadata": {},
   "outputs": [
    {
     "data": {
      "text/plain": [
       "-5"
      ]
     },
     "execution_count": 30,
     "metadata": {},
     "output_type": "execute_result"
    }
   ],
   "source": [
    "~4 "
   ]
  },
  {
   "cell_type": "code",
   "execution_count": null,
   "id": "8a1e3168-c11e-43f9-82ee-ccda525da67c",
   "metadata": {},
   "outputs": [],
   "source": [
    "# ~ telda which gives value is nearby number in negative."
   ]
  },
  {
   "cell_type": "code",
   "execution_count": null,
   "id": "22444412-d6d8-48bc-ac31-2696e52bebef",
   "metadata": {},
   "outputs": [],
   "source": [
    "# xor operator- return 1 exactly when one operand is 1\n",
    "^ "
   ]
  },
  {
   "cell_type": "code",
   "execution_count": 31,
   "id": "202bebed-8c36-4ac6-8746-015582c85a05",
   "metadata": {},
   "outputs": [
    {
     "data": {
      "text/plain": [
       "3"
      ]
     },
     "execution_count": 31,
     "metadata": {},
     "output_type": "execute_result"
    }
   ],
   "source": [
    "5 ^ 6"
   ]
  },
  {
   "cell_type": "code",
   "execution_count": 32,
   "id": "51a410df-391c-4861-bf62-7bcaad05e840",
   "metadata": {},
   "outputs": [
    {
     "data": {
      "text/plain": [
       "'0b101'"
      ]
     },
     "execution_count": 32,
     "metadata": {},
     "output_type": "execute_result"
    }
   ],
   "source": [
    "bin(5)"
   ]
  },
  {
   "cell_type": "code",
   "execution_count": 33,
   "id": "3312aa46-3a92-43c8-a436-18e109c0aa3a",
   "metadata": {},
   "outputs": [
    {
     "data": {
      "text/plain": [
       "'0b110'"
      ]
     },
     "execution_count": 33,
     "metadata": {},
     "output_type": "execute_result"
    }
   ],
   "source": [
    "bin(6)"
   ]
  },
  {
   "cell_type": "code",
   "execution_count": 34,
   "id": "e8cafe58-132b-4863-9c92-69d9d1c0eaa8",
   "metadata": {},
   "outputs": [
    {
     "data": {
      "text/plain": [
       "'0b110'"
      ]
     },
     "execution_count": 34,
     "metadata": {},
     "output_type": "execute_result"
    }
   ],
   "source": [
    "bin(6)"
   ]
  },
  {
   "cell_type": "code",
   "execution_count": 35,
   "id": "e606096b-d8d8-4f2b-8f41-ce61a3b1dbb7",
   "metadata": {},
   "outputs": [
    {
     "data": {
      "text/plain": [
       "'0b11'"
      ]
     },
     "execution_count": 35,
     "metadata": {},
     "output_type": "execute_result"
    }
   ],
   "source": [
    "bin(3)"
   ]
  },
  {
   "cell_type": "code",
   "execution_count": 40,
   "id": "6a1caa89-aa24-401b-a1ac-9fd07aaaddc5",
   "metadata": {},
   "outputs": [],
   "source": [
    "#shift operator << left shift operato- add the no. of elements.\n",
    "# right shift >> remove the no. of element"
   ]
  },
  {
   "cell_type": "code",
   "execution_count": 39,
   "id": "7877da80-91e8-4d9a-b358-c8367ab3892a",
   "metadata": {},
   "outputs": [
    {
     "data": {
      "text/plain": [
       "98560"
      ]
     },
     "execution_count": 39,
     "metadata": {},
     "output_type": "execute_result"
    }
   ],
   "source": [
    "385 << 8"
   ]
  },
  {
   "cell_type": "code",
   "execution_count": 37,
   "id": "8831a662-f167-48e7-bf88-ff4447e6a329",
   "metadata": {},
   "outputs": [
    {
     "data": {
      "text/plain": [
       "'0b110000001'"
      ]
     },
     "execution_count": 37,
     "metadata": {},
     "output_type": "execute_result"
    }
   ],
   "source": [
    "bin(385)"
   ]
  },
  {
   "cell_type": "code",
   "execution_count": 38,
   "id": "248ac37b-2186-4a88-b056-52522402249f",
   "metadata": {},
   "outputs": [
    {
     "data": {
      "text/plain": [
       "'0b1000'"
      ]
     },
     "execution_count": 38,
     "metadata": {},
     "output_type": "execute_result"
    }
   ],
   "source": [
    "bin(8)"
   ]
  },
  {
   "cell_type": "code",
   "execution_count": null,
   "id": "02fd24ed-dfce-4950-93f5-0fb49ce470b3",
   "metadata": {},
   "outputs": [],
   "source": [
    "#order of presedence\n",
    "#left to right execution"
   ]
  },
  {
   "cell_type": "code",
   "execution_count": 41,
   "id": "5f020984-699d-4051-9e35-a09104903315",
   "metadata": {},
   "outputs": [
    {
     "ename": "TypeError",
     "evalue": "can only concatenate str (not \"int\") to str",
     "output_type": "error",
     "traceback": [
      "\u001b[0;31m---------------------------------------------------------------------------\u001b[0m",
      "\u001b[0;31mTypeError\u001b[0m                                 Traceback (most recent call last)",
      "Cell \u001b[0;32mIn[41], line 1\u001b[0m\n\u001b[0;32m----> 1\u001b[0m a \u001b[38;5;241m+\u001b[39m\u001b[38;5;241m=\u001b[39m \u001b[38;5;241m5\u001b[39m\n",
      "\u001b[0;31mTypeError\u001b[0m: can only concatenate str (not \"int\") to str"
     ]
    }
   ],
   "source": [
    "a += 5"
   ]
  },
  {
   "cell_type": "code",
   "execution_count": null,
   "id": "aed9fa16-8a93-43dd-a6a8-d90bf490001b",
   "metadata": {},
   "outputs": [],
   "source": [
    "# typecasting > type , you are concverting data type\n",
    "# it is of 2 types- implicit and explicit\n",
    "#explicit is converting into integer\n",
    "#impplicit"
   ]
  },
  {
   "cell_type": "code",
   "execution_count": 43,
   "id": "f501d127-02f2-4f08-8bb6-23e242dda466",
   "metadata": {},
   "outputs": [
    {
     "data": {
      "text/plain": [
       "int"
      ]
     },
     "execution_count": 43,
     "metadata": {},
     "output_type": "execute_result"
    }
   ],
   "source": [
    "a = 100\n",
    "str(a)\n",
    "type(a)"
   ]
  },
  {
   "cell_type": "code",
   "execution_count": 44,
   "id": "d8e19a5a-72c1-468d-bd66-d2c7d3c9cdc0",
   "metadata": {},
   "outputs": [
    {
     "data": {
      "text/plain": [
       "False"
      ]
     },
     "execution_count": 44,
     "metadata": {},
     "output_type": "execute_result"
    }
   ],
   "source": [
    "bool(0)"
   ]
  },
  {
   "cell_type": "code",
   "execution_count": 45,
   "id": "02422497-cc8e-43a9-ba9e-34f7b6e23ab8",
   "metadata": {},
   "outputs": [
    {
     "data": {
      "text/plain": [
       "True"
      ]
     },
     "execution_count": 45,
     "metadata": {},
     "output_type": "execute_result"
    }
   ],
   "source": [
    "bool(1)\n"
   ]
  },
  {
   "cell_type": "code",
   "execution_count": null,
   "id": "7cf3ec48-1dc5-4445-b894-2a913ff4666a",
   "metadata": {},
   "outputs": [],
   "source": [
    "#conditional statement > "
   ]
  },
  {
   "cell_type": "code",
   "execution_count": 53,
   "id": "378b3660-05d9-460e-adbe-8ce8932f25dd",
   "metadata": {},
   "outputs": [
    {
     "name": "stdout",
     "output_type": "stream",
     "text": [
      "a is greater than 100.\n"
     ]
    }
   ],
   "source": [
    "a = 200\n",
    "if a>100: # this is because to show the condition is true\n",
    "    print('a is greater than 100.')"
   ]
  },
  {
   "cell_type": "code",
   "execution_count": 64,
   "id": "9d0e51c8-2fb6-475c-9b04-76a84adddc34",
   "metadata": {},
   "outputs": [
    {
     "name": "stdout",
     "output_type": "stream",
     "text": [
      "its a positive no.\n"
     ]
    }
   ],
   "source": [
    "num = 2\n",
    "if num > 0:\n",
    "    print('its a positive no.')"
   ]
  },
  {
   "cell_type": "code",
   "execution_count": 74,
   "id": "392515a2-b9c8-4918-a1ab-c29171881b09",
   "metadata": {},
   "outputs": [
    {
     "name": "stdout",
     "output_type": "stream",
     "text": [
      "the person is rich.\n"
     ]
    }
   ],
   "source": [
    "salary = 100000\n",
    "if salary > 10000:\n",
    "    print( 'the person is rich.')\n",
    "else:\n",
    "    print('the person is poor.')"
   ]
  },
  {
   "cell_type": "code",
   "execution_count": 75,
   "id": "49ec2eb6-9d95-42d3-8ef4-c3fbaa0c4f28",
   "metadata": {},
   "outputs": [],
   "source": [
    "# if else condition"
   ]
  },
  {
   "cell_type": "code",
   "execution_count": 76,
   "id": "8c37bde3-a7cf-484a-a0f2-684a9e6550fb",
   "metadata": {},
   "outputs": [
    {
     "name": "stdout",
     "output_type": "stream",
     "text": [
      "go to home become a responsible citizen\n"
     ]
    }
   ],
   "source": [
    "age = 17\n",
    "if age >= 21:\n",
    "    print('you are allowed to enter the bar and get served.')\n",
    "else:\n",
    "    print('go to home become a responsible citizen')"
   ]
  },
  {
   "cell_type": "code",
   "execution_count": null,
   "id": "1944989a-ece0-4891-bcf1-d2436d6558cd",
   "metadata": {},
   "outputs": [],
   "source": [
    "#to check a no. is even or not"
   ]
  },
  {
   "cell_type": "code",
   "execution_count": 77,
   "id": "a726ca73-a269-4801-b9dd-812025431d86",
   "metadata": {},
   "outputs": [
    {
     "data": {
      "text/plain": [
       "0"
      ]
     },
     "execution_count": 77,
     "metadata": {},
     "output_type": "execute_result"
    }
   ],
   "source": [
    "6 % 2"
   ]
  },
  {
   "cell_type": "code",
   "execution_count": 80,
   "id": "f27ddc33-04e2-4bcf-b7de-45d5a9cdc2ca",
   "metadata": {},
   "outputs": [
    {
     "name": "stdout",
     "output_type": "stream",
     "text": [
      "even\n"
     ]
    }
   ],
   "source": [
    "num = 8\n",
    "if num % 2 == 0:\n",
    "    print('even')\n",
    "else:\n",
    "    print('odd')"
   ]
  },
  {
   "cell_type": "code",
   "execution_count": 81,
   "id": "7b37eb3c-e00b-47b3-b044-6026684e7bc1",
   "metadata": {},
   "outputs": [
    {
     "name": "stdout",
     "output_type": "stream",
     "text": [
      "repeat the class\n"
     ]
    }
   ],
   "source": [
    "score = 20\n",
    "if score >=23:\n",
    "    print('you are pass')\n",
    "else:\n",
    "    print('repeat the class')"
   ]
  },
  {
   "cell_type": "code",
   "execution_count": 85,
   "id": "49306d81-e7d3-4864-b1e4-691dcb30c4b1",
   "metadata": {},
   "outputs": [
    {
     "name": "stdout",
     "output_type": "stream",
     "text": [
      " equal to 100\n"
     ]
    }
   ],
   "source": [
    "#if -elif -else\n",
    "a=100\n",
    "if a > 100:\n",
    "    print('no. is greater than 100')\n",
    "elif a < 100:\n",
    "    print('no. is less than 100')\n",
    "else:\n",
    "    print(' equal to 100')"
   ]
  },
  {
   "cell_type": "code",
   "execution_count": null,
   "id": "9c7fc7f0-8af0-4be8-9bbd-2d45386089b0",
   "metadata": {},
   "outputs": [],
   "source": [
    "#desgn a report card\n",
    "\n"
   ]
  },
  {
   "cell_type": "code",
   "execution_count": 1,
   "id": "9036b981-6f25-4ce9-af40-6ecde698c2cc",
   "metadata": {},
   "outputs": [],
   "source": [
    "a = 2\n",
    "b = 3"
   ]
  },
  {
   "cell_type": "code",
   "execution_count": 3,
   "id": "e3b17bbe-d3f2-4a07-bda8-8db121463354",
   "metadata": {},
   "outputs": [
    {
     "data": {
      "text/plain": [
       "False"
      ]
     },
     "execution_count": 3,
     "metadata": {},
     "output_type": "execute_result"
    }
   ],
   "source": [
    "a >=3"
   ]
  },
  {
   "cell_type": "code",
   "execution_count": 4,
   "id": "177b22ce-de76-422b-9694-9effe76f79fa",
   "metadata": {},
   "outputs": [
    {
     "name": "stdout",
     "output_type": "stream",
     "text": [
      "archi is a great teacher\n"
     ]
    }
   ],
   "source": [
    "print('archi is a great teacher')"
   ]
  },
  {
   "cell_type": "code",
   "execution_count": 15,
   "id": "d8c60918-40ab-4e85-b41f-b0e04961f777",
   "metadata": {},
   "outputs": [],
   "source": [
    "score = 60\n",
    "if score >= 65:\n",
    "    print('you are pass.')\n",
    "else:\n",
    "    print:('repeat the class.')"
   ]
  },
  {
   "cell_type": "code",
   "execution_count": 1,
   "id": "48c0a75c-a899-4e11-9d68-335e037cc665",
   "metadata": {},
   "outputs": [
    {
     "name": "stdout",
     "output_type": "stream",
     "text": [
      "deepak is barking, please save me\n"
     ]
    }
   ],
   "source": [
    "print('deepak is barking, please save me')"
   ]
  },
  {
   "cell_type": "code",
   "execution_count": 2,
   "id": "6a30072b-f909-4396-9795-b4708773784c",
   "metadata": {},
   "outputs": [],
   "source": [
    " a = 4.5"
   ]
  },
  {
   "cell_type": "code",
   "execution_count": 3,
   "id": "87a27a19-1d39-4801-9261-0ca943bb24c1",
   "metadata": {},
   "outputs": [
    {
     "data": {
      "text/plain": [
       "4.5"
      ]
     },
     "execution_count": 3,
     "metadata": {},
     "output_type": "execute_result"
    }
   ],
   "source": [
    "a"
   ]
  },
  {
   "cell_type": "code",
   "execution_count": 4,
   "id": "5fc11a52-0b8c-42e2-8e57-63c04867d6f4",
   "metadata": {},
   "outputs": [
    {
     "data": {
      "text/plain": [
       "4.5"
      ]
     },
     "execution_count": 4,
     "metadata": {},
     "output_type": "execute_result"
    }
   ],
   "source": [
    "4.5"
   ]
  },
  {
   "cell_type": "code",
   "execution_count": 5,
   "id": "9dadb319-a4a2-4922-81a4-ff598122dbb6",
   "metadata": {},
   "outputs": [],
   "source": [
    "c = 'ajay'"
   ]
  },
  {
   "cell_type": "code",
   "execution_count": 6,
   "id": "c0f5e0f6-6366-44e3-8a32-766c883537b7",
   "metadata": {},
   "outputs": [
    {
     "data": {
      "text/plain": [
       "'ajay'"
      ]
     },
     "execution_count": 6,
     "metadata": {},
     "output_type": "execute_result"
    }
   ],
   "source": [
    "c"
   ]
  },
  {
   "cell_type": "code",
   "execution_count": 8,
   "id": "83fbeef2-02f4-45ea-a69b-5a3735bf4266",
   "metadata": {},
   "outputs": [
    {
     "data": {
      "text/plain": [
       "str"
      ]
     },
     "execution_count": 8,
     "metadata": {},
     "output_type": "execute_result"
    }
   ],
   "source": [
    "type(c)"
   ]
  },
  {
   "cell_type": "code",
   "execution_count": 9,
   "id": "e9036e44-b0be-4938-8457-06d9acf9226a",
   "metadata": {},
   "outputs": [
    {
     "data": {
      "text/plain": [
       "float"
      ]
     },
     "execution_count": 9,
     "metadata": {},
     "output_type": "execute_result"
    }
   ],
   "source": [
    "type(a)"
   ]
  },
  {
   "cell_type": "code",
   "execution_count": 10,
   "id": "f7cd0686-0413-4b30-a634-4bd96d2621d6",
   "metadata": {},
   "outputs": [],
   "source": [
    "b = 5"
   ]
  },
  {
   "cell_type": "code",
   "execution_count": 11,
   "id": "bbb8651c-52f7-4b40-8a8c-026653162cd1",
   "metadata": {},
   "outputs": [
    {
     "data": {
      "text/plain": [
       "int"
      ]
     },
     "execution_count": 11,
     "metadata": {},
     "output_type": "execute_result"
    }
   ],
   "source": [
    "type(b)"
   ]
  },
  {
   "cell_type": "code",
   "execution_count": 13,
   "id": "ed05cd5a-acfc-4625-8332-20e54bf873fb",
   "metadata": {},
   "outputs": [
    {
     "data": {
      "text/plain": [
       "str"
      ]
     },
     "execution_count": 13,
     "metadata": {},
     "output_type": "execute_result"
    }
   ],
   "source": [
    "type(c)"
   ]
  },
  {
   "cell_type": "code",
   "execution_count": 17,
   "id": "3a46f42b-6483-4fb4-b0f2-b41edc6b70e0",
   "metadata": {},
   "outputs": [],
   "source": [
    "c = False\n"
   ]
  },
  {
   "cell_type": "code",
   "execution_count": 18,
   "id": "d8c1f2cb-36bc-4990-9176-45c906e98658",
   "metadata": {},
   "outputs": [
    {
     "data": {
      "text/plain": [
       "bool"
      ]
     },
     "execution_count": 18,
     "metadata": {},
     "output_type": "execute_result"
    }
   ],
   "source": [
    "type(c)"
   ]
  },
  {
   "cell_type": "code",
   "execution_count": 19,
   "id": "d840a87d-8205-4a99-8205-5e51c0d5cfce",
   "metadata": {},
   "outputs": [
    {
     "data": {
      "text/plain": [
       "bool"
      ]
     },
     "execution_count": 19,
     "metadata": {},
     "output_type": "execute_result"
    }
   ],
   "source": [
    "b = True\n",
    "type(b)"
   ]
  },
  {
   "cell_type": "code",
   "execution_count": 20,
   "id": "f859a85f-c920-471e-9d1c-f68bf8c3a984",
   "metadata": {},
   "outputs": [
    {
     "data": {
      "text/plain": [
       "1"
      ]
     },
     "execution_count": 20,
     "metadata": {},
     "output_type": "execute_result"
    }
   ],
   "source": [
    "True - False"
   ]
  },
  {
   "cell_type": "code",
   "execution_count": 21,
   "id": "211d32cf-04e6-46e5-bd90-8c6079336acc",
   "metadata": {},
   "outputs": [
    {
     "data": {
      "text/plain": [
       "0"
      ]
     },
     "execution_count": 21,
     "metadata": {},
     "output_type": "execute_result"
    }
   ],
   "source": [
    "True - True"
   ]
  },
  {
   "cell_type": "code",
   "execution_count": 22,
   "id": "afc7cfca-55b9-40bc-b817-cbc5ad90fe4b",
   "metadata": {},
   "outputs": [
    {
     "data": {
      "text/plain": [
       "1"
      ]
     },
     "execution_count": 22,
     "metadata": {},
     "output_type": "execute_result"
    }
   ],
   "source": [
    "True + False"
   ]
  },
  {
   "cell_type": "code",
   "execution_count": 23,
   "id": "20ba6912-f7f4-4b33-a780-6e506123dabd",
   "metadata": {},
   "outputs": [
    {
     "data": {
      "text/plain": [
       "0"
      ]
     },
     "execution_count": 23,
     "metadata": {},
     "output_type": "execute_result"
    }
   ],
   "source": [
    "True * False"
   ]
  },
  {
   "cell_type": "code",
   "execution_count": 26,
   "id": "07a5054b-557b-44ef-9511-db9b7d2c0c43",
   "metadata": {},
   "outputs": [
    {
     "data": {
      "text/plain": [
       "0.0"
      ]
     },
     "execution_count": 26,
     "metadata": {},
     "output_type": "execute_result"
    }
   ],
   "source": [
    "False / True"
   ]
  },
  {
   "cell_type": "code",
   "execution_count": 28,
   "id": "ae7b2173-3a35-4a16-99ef-f1c927fcb75d",
   "metadata": {},
   "outputs": [],
   "source": [
    "complex = 5+6j"
   ]
  },
  {
   "cell_type": "code",
   "execution_count": 32,
   "id": "762ba79f-f104-405f-92e8-4b44df51335d",
   "metadata": {
    "tags": []
   },
   "outputs": [
    {
     "name": "stdin",
     "output_type": "stream",
     "text": [
      "please enter your name 2\n"
     ]
    }
   ],
   "source": [
    "name = input('please enter your name')"
   ]
  },
  {
   "cell_type": "code",
   "execution_count": 33,
   "id": "50e31bb8-cc32-45af-a2d9-e8946eff6d15",
   "metadata": {},
   "outputs": [
    {
     "data": {
      "text/plain": [
       "'2'"
      ]
     },
     "execution_count": 33,
     "metadata": {},
     "output_type": "execute_result"
    }
   ],
   "source": [
    "name"
   ]
  },
  {
   "cell_type": "code",
   "execution_count": 34,
   "id": "930d43ce-7b48-487f-b934-37ee7e1d57e2",
   "metadata": {},
   "outputs": [
    {
     "data": {
      "text/plain": [
       "str"
      ]
     },
     "execution_count": 34,
     "metadata": {},
     "output_type": "execute_result"
    }
   ],
   "source": [
    "type(name)"
   ]
  },
  {
   "cell_type": "code",
   "execution_count": null,
   "id": "4ddc4b7e-6045-4f3b-834e-f60e38c4b9f9",
   "metadata": {},
   "outputs": [],
   "source": [
    "# we can convert str to int"
   ]
  },
  {
   "cell_type": "code",
   "execution_count": 35,
   "id": "3cb7d64c-0252-4900-8438-1466724f314a",
   "metadata": {},
   "outputs": [
    {
     "data": {
      "text/plain": [
       "2"
      ]
     },
     "execution_count": 35,
     "metadata": {},
     "output_type": "execute_result"
    }
   ],
   "source": [
    "#use concept > type casting\n",
    "int(name)"
   ]
  },
  {
   "cell_type": "code",
   "execution_count": 36,
   "id": "176e37e2-0ad2-444c-87d5-eb48169492eb",
   "metadata": {},
   "outputs": [
    {
     "data": {
      "text/plain": [
       "str"
      ]
     },
     "execution_count": 36,
     "metadata": {},
     "output_type": "execute_result"
    }
   ],
   "source": [
    "type(name)"
   ]
  },
  {
   "cell_type": "code",
   "execution_count": 37,
   "id": "b7af931f-0772-41db-8bef-a0522a9dc742",
   "metadata": {},
   "outputs": [
    {
     "data": {
      "text/plain": [
       "11"
      ]
     },
     "execution_count": 37,
     "metadata": {},
     "output_type": "execute_result"
    }
   ],
   "source": [
    "3 + 4 * 2"
   ]
  },
  {
   "cell_type": "code",
   "execution_count": 38,
   "id": "dccc40b3-68a4-475c-b179-a9f97dbdab7e",
   "metadata": {},
   "outputs": [],
   "source": [
    "a = 5 "
   ]
  },
  {
   "cell_type": "code",
   "execution_count": 39,
   "id": "7fdde99c-b941-41c5-bd54-65ac9c17af76",
   "metadata": {},
   "outputs": [
    {
     "data": {
      "text/plain": [
       "5"
      ]
     },
     "execution_count": 39,
     "metadata": {},
     "output_type": "execute_result"
    }
   ],
   "source": [
    "a"
   ]
  },
  {
   "cell_type": "code",
   "execution_count": 40,
   "id": "20493220-90e4-442c-8e8e-e6f4bff0ebfe",
   "metadata": {},
   "outputs": [
    {
     "data": {
      "text/plain": [
       "int"
      ]
     },
     "execution_count": 40,
     "metadata": {},
     "output_type": "execute_result"
    }
   ],
   "source": [
    "type(a)"
   ]
  },
  {
   "cell_type": "code",
   "execution_count": 41,
   "id": "0d9fa68b-7aaa-4f62-bdc4-6f4cae936db4",
   "metadata": {},
   "outputs": [],
   "source": [
    "v = 6.5\n"
   ]
  },
  {
   "cell_type": "code",
   "execution_count": 42,
   "id": "c887eb44-34d6-4e88-a81e-189d2c8f7018",
   "metadata": {},
   "outputs": [
    {
     "data": {
      "text/plain": [
       "6.5"
      ]
     },
     "execution_count": 42,
     "metadata": {},
     "output_type": "execute_result"
    }
   ],
   "source": [
    "v"
   ]
  },
  {
   "cell_type": "code",
   "execution_count": 43,
   "id": "5a948255-99c2-4daf-b2ab-a5b381730a6f",
   "metadata": {},
   "outputs": [
    {
     "data": {
      "text/plain": [
       "float"
      ]
     },
     "execution_count": 43,
     "metadata": {},
     "output_type": "execute_result"
    }
   ],
   "source": [
    "type(v)"
   ]
  },
  {
   "cell_type": "code",
   "execution_count": 44,
   "id": "eb195d00-a8d8-4399-abb4-8739bd2db7b4",
   "metadata": {},
   "outputs": [
    {
     "data": {
      "text/plain": [
       "str"
      ]
     },
     "execution_count": 44,
     "metadata": {},
     "output_type": "execute_result"
    }
   ],
   "source": [
    "a = \"tulika\"\n",
    "type(a)"
   ]
  },
  {
   "cell_type": "code",
   "execution_count": 45,
   "id": "bd3d04be-ee39-4c29-b935-92a42dffb841",
   "metadata": {},
   "outputs": [
    {
     "data": {
      "text/plain": [
       "6"
      ]
     },
     "execution_count": 45,
     "metadata": {},
     "output_type": "execute_result"
    }
   ],
   "source": [
    "2 + 4"
   ]
  },
  {
   "cell_type": "code",
   "execution_count": 46,
   "id": "70fc17fb-b3c5-4a19-ab4c-436206605de4",
   "metadata": {},
   "outputs": [],
   "source": [
    "a = \"2\""
   ]
  },
  {
   "cell_type": "code",
   "execution_count": 47,
   "id": "a1c90953-fab5-4809-a7c5-54dfff19b1be",
   "metadata": {},
   "outputs": [
    {
     "data": {
      "text/plain": [
       "str"
      ]
     },
     "execution_count": 47,
     "metadata": {},
     "output_type": "execute_result"
    }
   ],
   "source": [
    "type(a)"
   ]
  },
  {
   "cell_type": "code",
   "execution_count": 48,
   "id": "902a9588-11f5-4989-82e8-86f6a8190570",
   "metadata": {},
   "outputs": [
    {
     "ename": "TypeError",
     "evalue": "can only concatenate str (not \"int\") to str",
     "output_type": "error",
     "traceback": [
      "\u001b[0;31m---------------------------------------------------------------------------\u001b[0m",
      "\u001b[0;31mTypeError\u001b[0m                                 Traceback (most recent call last)",
      "Cell \u001b[0;32mIn[48], line 1\u001b[0m\n\u001b[0;32m----> 1\u001b[0m \u001b[38;5;124;43m'\u001b[39;49m\u001b[38;5;124;43m2\u001b[39;49m\u001b[38;5;124;43m'\u001b[39;49m\u001b[43m \u001b[49m\u001b[38;5;241;43m+\u001b[39;49m\u001b[43m \u001b[49m\u001b[38;5;241;43m3\u001b[39;49m\n",
      "\u001b[0;31mTypeError\u001b[0m: can only concatenate str (not \"int\") to str"
     ]
    }
   ],
   "source": [
    "'2' + 3 #it will throw an error\n"
   ]
  },
  {
   "cell_type": "code",
   "execution_count": 49,
   "id": "0d527d31-b636-4482-9497-580f47443e2b",
   "metadata": {},
   "outputs": [],
   "source": [
    "# but by using the concept of typecasting or typeconversion\n",
    "# the process of changing datatype of variable or object in python is known as typecasting.\n"
   ]
  },
  {
   "cell_type": "code",
   "execution_count": 53,
   "id": "20754359-12ab-44e5-9337-ac0f9adf5f87",
   "metadata": {},
   "outputs": [
    {
     "ename": "TypeError",
     "evalue": "can only concatenate str (not \"int\") to str",
     "output_type": "error",
     "traceback": [
      "\u001b[0;31m---------------------------------------------------------------------------\u001b[0m",
      "\u001b[0;31mTypeError\u001b[0m                                 Traceback (most recent call last)",
      "Cell \u001b[0;32mIn[53], line 5\u001b[0m\n\u001b[1;32m      3\u001b[0m a \u001b[38;5;241m=\u001b[39m \u001b[38;5;124m'\u001b[39m\u001b[38;5;124m2\u001b[39m\u001b[38;5;124m'\u001b[39m\n\u001b[1;32m      4\u001b[0m b \u001b[38;5;241m=\u001b[39m \u001b[38;5;241m3\u001b[39m\n\u001b[0;32m----> 5\u001b[0m \u001b[43ma\u001b[49m\u001b[43m \u001b[49m\u001b[38;5;241;43m+\u001b[39;49m\u001b[43m \u001b[49m\u001b[43mb\u001b[49m\n\u001b[1;32m      6\u001b[0m \u001b[38;5;28mint\u001b[39m(a) \u001b[38;5;241m+\u001b[39m b\n",
      "\u001b[0;31mTypeError\u001b[0m: can only concatenate str (not \"int\") to str"
     ]
    }
   ],
   "source": [
    "#example\n",
    "\n",
    "a = '2'\n",
    "b = 3\n",
    "a + b\n",
    "int(a) + b"
   ]
  },
  {
   "cell_type": "code",
   "execution_count": 54,
   "id": "57f2d3dd-bbf8-400e-95d3-73704f56ec39",
   "metadata": {},
   "outputs": [
    {
     "data": {
      "text/plain": [
       "5"
      ]
     },
     "execution_count": 54,
     "metadata": {},
     "output_type": "execute_result"
    }
   ],
   "source": [
    "a = '2'\n",
    "b = 3\n",
    "int(a) + b"
   ]
  },
  {
   "cell_type": "code",
   "execution_count": 56,
   "id": "8aab0f27-152c-496a-948c-3e3f73a6631c",
   "metadata": {},
   "outputs": [
    {
     "name": "stdout",
     "output_type": "stream",
     "text": [
      "<class 'str'>\n",
      "<class 'int'>\n"
     ]
    }
   ],
   "source": [
    "#string to integer\n",
    "\n",
    "a = '2'\n",
    "print(type(a))\n",
    "print(type(int(a)))"
   ]
  },
  {
   "cell_type": "code",
   "execution_count": 60,
   "id": "5b0902c7-1334-45dd-84db-684f3f677262",
   "metadata": {},
   "outputs": [],
   "source": [
    "#float to integer\n",
    "a = 3.4"
   ]
  },
  {
   "cell_type": "code",
   "execution_count": 61,
   "id": "e59e5d6f-5788-4059-a22b-6c5b9ea87ccc",
   "metadata": {},
   "outputs": [
    {
     "data": {
      "text/plain": [
       "3.4"
      ]
     },
     "execution_count": 61,
     "metadata": {},
     "output_type": "execute_result"
    }
   ],
   "source": [
    "a"
   ]
  },
  {
   "cell_type": "code",
   "execution_count": 62,
   "id": "a96c0b40-a051-4ef8-b903-2bfc51ee59d1",
   "metadata": {},
   "outputs": [
    {
     "data": {
      "text/plain": [
       "float"
      ]
     },
     "execution_count": 62,
     "metadata": {},
     "output_type": "execute_result"
    }
   ],
   "source": [
    "type(a)"
   ]
  },
  {
   "cell_type": "code",
   "execution_count": 63,
   "id": "279d29b7-edc2-4078-a626-008661216338",
   "metadata": {},
   "outputs": [
    {
     "data": {
      "text/plain": [
       "11"
      ]
     },
     "execution_count": 63,
     "metadata": {},
     "output_type": "execute_result"
    }
   ],
   "source": [
    "a = 7.6\n",
    "b = 4\n",
    "int(a) + b"
   ]
  },
  {
   "cell_type": "code",
   "execution_count": 64,
   "id": "bf870388-6e7b-437f-b8b2-c1981db7c866",
   "metadata": {},
   "outputs": [
    {
     "data": {
      "text/plain": [
       "int"
      ]
     },
     "execution_count": 64,
     "metadata": {},
     "output_type": "execute_result"
    }
   ],
   "source": [
    "#integer to float\n",
    "a = 2\n",
    "type(a)"
   ]
  },
  {
   "cell_type": "code",
   "execution_count": 66,
   "id": "259479c4-c8d6-414a-ac07-0309601dd8f0",
   "metadata": {},
   "outputs": [
    {
     "data": {
      "text/plain": [
       "5.0"
      ]
     },
     "execution_count": 66,
     "metadata": {},
     "output_type": "execute_result"
    }
   ],
   "source": [
    "a = 2\n",
    "b = 3\n",
    "float(a) + b"
   ]
  },
  {
   "cell_type": "code",
   "execution_count": 67,
   "id": "2825fcea-83ec-4edf-8031-b92f1e86575c",
   "metadata": {},
   "outputs": [
    {
     "data": {
      "text/plain": [
       "int"
      ]
     },
     "execution_count": 67,
     "metadata": {},
     "output_type": "execute_result"
    }
   ],
   "source": [
    "type(a)"
   ]
  },
  {
   "cell_type": "code",
   "execution_count": 68,
   "id": "8f46d914-33c7-435a-b387-ed48e2f25549",
   "metadata": {},
   "outputs": [
    {
     "data": {
      "text/plain": [
       "7.0"
      ]
     },
     "execution_count": 68,
     "metadata": {},
     "output_type": "execute_result"
    }
   ],
   "source": [
    "#string to float\n",
    "\n",
    "a = \"4\"\n",
    "b = 3\n",
    "float(a) + b"
   ]
  },
  {
   "cell_type": "code",
   "execution_count": 70,
   "id": "2ba4b4c2-3647-4b24-b447-234577137bfc",
   "metadata": {},
   "outputs": [
    {
     "data": {
      "text/plain": [
       "str"
      ]
     },
     "execution_count": 70,
     "metadata": {},
     "output_type": "execute_result"
    }
   ],
   "source": [
    "type(a)"
   ]
  },
  {
   "cell_type": "code",
   "execution_count": 71,
   "id": "2e1df1ea-fdf4-437f-a564-398fd3b73ae4",
   "metadata": {},
   "outputs": [
    {
     "data": {
      "text/plain": [
       "float"
      ]
     },
     "execution_count": 71,
     "metadata": {},
     "output_type": "execute_result"
    }
   ],
   "source": [
    "type(float(a))"
   ]
  },
  {
   "cell_type": "code",
   "execution_count": null,
   "id": "cd66a8d8-96b4-45fe-8181-3382730c1da9",
   "metadata": {},
   "outputs": [],
   "source": [
    "#characters cannot be number into number\n"
   ]
  },
  {
   "cell_type": "code",
   "execution_count": 72,
   "id": "b32d334d-fc01-40b9-ad3e-c85810be3f57",
   "metadata": {},
   "outputs": [
    {
     "data": {
      "text/plain": [
       "int"
      ]
     },
     "execution_count": 72,
     "metadata": {},
     "output_type": "execute_result"
    }
   ],
   "source": [
    "#integer into string\n",
    "\n",
    "a=4\n",
    "type(a)"
   ]
  },
  {
   "cell_type": "code",
   "execution_count": 73,
   "id": "e10e51c4-7d6a-4137-9138-2219faef1308",
   "metadata": {},
   "outputs": [
    {
     "data": {
      "text/plain": [
       "'4'"
      ]
     },
     "execution_count": 73,
     "metadata": {},
     "output_type": "execute_result"
    }
   ],
   "source": [
    "str(a)"
   ]
  },
  {
   "cell_type": "code",
   "execution_count": null,
   "id": "b853ad64-e2b9-4ddb-b6ea-1f0e339eb247",
   "metadata": {},
   "outputs": [],
   "source": [
    "#condition> "
   ]
  }
 ],
 "metadata": {
  "kernelspec": {
   "display_name": "Python 3 (ipykernel)",
   "language": "python",
   "name": "python3"
  },
  "language_info": {
   "codemirror_mode": {
    "name": "ipython",
    "version": 3
   },
   "file_extension": ".py",
   "mimetype": "text/x-python",
   "name": "python",
   "nbconvert_exporter": "python",
   "pygments_lexer": "ipython3",
   "version": "3.10.8"
  }
 },
 "nbformat": 4,
 "nbformat_minor": 5
}
