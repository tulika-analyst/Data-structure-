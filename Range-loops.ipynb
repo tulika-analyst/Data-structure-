{
 "cells": [
  {
   "cell_type": "code",
   "execution_count": null,
   "id": "caf874da-0109-490d-abb7-29cb075a57a7",
   "metadata": {},
   "outputs": [],
   "source": [
    "#range\n",
    "#print a right triangle with *\n",
    "\n",
    "row = 1\n",
    "while row <= 4:\n",
    "    col = 1\n",
    "    while col <= row:\n",
    "        print('*', end = '')\n",
    "        col = col + 1"
   ]
  },
  {
   "cell_type": "code",
   "execution_count": 2,
   "id": "369c47d5-8f68-4ad6-9742-88339a270734",
   "metadata": {},
   "outputs": [
    {
     "name": "stdout",
     "output_type": "stream",
     "text": [
      "*\n",
      "**\n",
      "***\n",
      "****\n"
     ]
    }
   ],
   "source": [
    "for i in range(4):\n",
    "    for j in range(i+1):\n",
    "        print('*', end = '')\n",
    "    print()\n",
    "        \n",
    "        "
   ]
  },
  {
   "cell_type": "code",
   "execution_count": 12,
   "id": "a67dd191-0c78-4858-a8e5-3a82dc0db057",
   "metadata": {},
   "outputs": [
    {
     "name": "stdout",
     "output_type": "stream",
     "text": [
      "* * * * \n",
      "* * * * \n",
      "* * * * \n",
      "* * * * \n"
     ]
    }
   ],
   "source": [
    "for i in range(4):\n",
    "    for j in range(4):\n",
    "        print('*', end = ' ')\n",
    "    print()"
   ]
  },
  {
   "cell_type": "code",
   "execution_count": null,
   "id": "6d227d79-ec91-4d1a-acf5-af7c6356ff21",
   "metadata": {},
   "outputs": [],
   "source": []
  }
 ],
 "metadata": {
  "kernelspec": {
   "display_name": "Python 3 (ipykernel)",
   "language": "python",
   "name": "python3"
  },
  "language_info": {
   "codemirror_mode": {
    "name": "ipython",
    "version": 3
   },
   "file_extension": ".py",
   "mimetype": "text/x-python",
   "name": "python",
   "nbconvert_exporter": "python",
   "pygments_lexer": "ipython3",
   "version": "3.10.8"
  }
 },
 "nbformat": 4,
 "nbformat_minor": 5
}
