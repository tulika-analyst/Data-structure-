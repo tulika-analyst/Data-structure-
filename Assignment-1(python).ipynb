{
 "cells": [
  {
   "cell_type": "markdown",
   "id": "01b6c4e2-540f-453e-8cb5-be9186358bd9",
   "metadata": {},
   "source": [
    "Assignment - 1 (Basic Python)\n"
   ]
  },
  {
   "cell_type": "raw",
   "id": "dfb4475c-02e1-4704-81f4-85bf967f33d6",
   "metadata": {},
   "source": [
    "# Question 1  :  explain the key featu$es of Python that make it a popular choice for programming.\n",
    "# Ans: The key features of python that make it a popular choice for programming than other programming \n",
    "languages are following:\n",
    "1. Python is widely used in this industry.\n",
    "2. It is way more easier to learn in comparative to other languages.\n",
    "3. Python has libraries more than 137000.\n",
    "4. It has huge active community.\n"
   ]
  },
  {
   "cell_type": "raw",
   "id": "9b01beaf-8e5b-4acd-a59c-8e1b40aeed0b",
   "metadata": {},
   "source": [
    "# Question 2 :Describe the role of predefined keywords in Python and provide exaamples of how they are used in a program.\n",
    "# Ans: Role of predeifined keywords in python are to execute the code which python itself understand the commands."
   ]
  },
  {
   "cell_type": "code",
   "execution_count": 1,
   "id": "f7d5abf0-c47e-489b-9b8a-cf453ea5bc61",
   "metadata": {},
   "outputs": [
    {
     "name": "stdout",
     "output_type": "stream",
     "text": [
      "\n",
      "Here is a list of the Python keywords.  Enter any keyword to get more help.\n",
      "\n",
      "False               class               from                or\n",
      "None                continue            global              pass\n",
      "True                def                 if                  raise\n",
      "and                 del                 import              return\n",
      "as                  elif                in                  try\n",
      "assert              else                is                  while\n",
      "async               except              lambda              with\n",
      "await               finally             nonlocal            yield\n",
      "break               for                 not                 \n",
      "\n"
     ]
    }
   ],
   "source": [
    "# these are the keywords which is there in the python which is predefined.\n",
    "\n",
    "help('keywords')"
   ]
  },
  {
   "cell_type": "code",
   "execution_count": 2,
   "id": "7345b586-8481-46fa-a6f4-fdf8751667d7",
   "metadata": {},
   "outputs": [
    {
     "data": {
      "text/plain": [
       "int"
      ]
     },
     "execution_count": 2,
     "metadata": {},
     "output_type": "execute_result"
    }
   ],
   "source": [
    "#abover are the predefined keywords.\n",
    "# Examples of predifined keywords:\n",
    "\n",
    "a = 3\n",
    "type(a)"
   ]
  },
  {
   "cell_type": "markdown",
   "id": "4fc77cc6-9422-4bf8-b069-4a55c434d625",
   "metadata": {},
   "source": [
    "#here with the help you keyword (type), we got to know about the type of (a) which is integer-3."
   ]
  },
  {
   "cell_type": "markdown",
   "id": "8a8af3bb-151a-4b19-ba9e-420680373a3b",
   "metadata": {},
   "source": [
    "# Question 3: Compare and contrast mutable and immutable objects in Python with exaamples.\n",
    "\n",
    "# Ans : 1. Mutable objects- These are the objects in which the set of list, containers and data structues whose state or value can be changed after they are created are called as Mutable objects or container.\n",
    "For example- lists"
   ]
  },
  {
   "cell_type": "code",
   "execution_count": null,
   "id": "1f1eed07-90ac-46e8-9ca9-39cfe972d2e5",
   "metadata": {},
   "outputs": [],
   "source": [
    "# example of mutable objects:\n",
    "# I have a list of different items below: "
   ]
  },
  {
   "cell_type": "code",
   "execution_count": 17,
   "id": "cfe63c2d-7eee-42e7-952b-8840bb79d7f2",
   "metadata": {},
   "outputs": [],
   "source": [
    "Grocery_list = ['tulika', 2, 3, 4, 'pwskills', 6]"
   ]
  },
  {
   "cell_type": "code",
   "execution_count": 9,
   "id": "7819856d-b7f2-4e01-a9b0-21cd35ce3f77",
   "metadata": {},
   "outputs": [],
   "source": [
    "#if I want to modify anything in this list, i can do that be using the method of indexing and negative indexing.\n",
    "# 'tulika' is 0, 2 is 1, 3 is 2, 4 is 3, 'pwskills is 4, 6 is 5."
   ]
  },
  {
   "cell_type": "code",
   "execution_count": 15,
   "id": "1b2cbb17-994b-4bc9-9540-377c29140990",
   "metadata": {},
   "outputs": [],
   "source": [
    "# if I want to change 'tulika' in this list to ' reena' then, "
   ]
  },
  {
   "cell_type": "code",
   "execution_count": 18,
   "id": "0f987eea-c371-4271-99cb-7b395281b311",
   "metadata": {},
   "outputs": [
    {
     "data": {
      "text/plain": [
       "'tulika'"
      ]
     },
     "execution_count": 18,
     "metadata": {},
     "output_type": "execute_result"
    }
   ],
   "source": [
    "Grocery_list[0]"
   ]
  },
  {
   "cell_type": "code",
   "execution_count": 19,
   "id": "759c8c17-b08d-4aac-a1e2-3ac47854d47c",
   "metadata": {},
   "outputs": [],
   "source": [
    "Grocery_list[0]='reena'"
   ]
  },
  {
   "cell_type": "code",
   "execution_count": 20,
   "id": "3e2c7228-a3d5-482d-a71f-cdcd28acf488",
   "metadata": {},
   "outputs": [
    {
     "data": {
      "text/plain": [
       "'reena'"
      ]
     },
     "execution_count": 20,
     "metadata": {},
     "output_type": "execute_result"
    }
   ],
   "source": [
    "Grocery_list[0]"
   ]
  },
  {
   "cell_type": "code",
   "execution_count": 22,
   "id": "ac490347-c0c2-43fc-9fef-61c68c72feef",
   "metadata": {},
   "outputs": [
    {
     "data": {
      "text/plain": [
       "['reena', 2, 3, 4, 'pwskills', 6]"
      ]
     },
     "execution_count": 22,
     "metadata": {},
     "output_type": "execute_result"
    }
   ],
   "source": [
    "Grocery_list"
   ]
  },
  {
   "cell_type": "markdown",
   "id": "ffcf9a16-1e94-45e2-84cf-f8fffa77048c",
   "metadata": {},
   "source": [
    "Immutable objects: These are the objects in which the set of list, containers and data structues whose state or value cannot be changed after they are created are called as immutable objects or container.\n",
    "For example- strings"
   ]
  },
  {
   "cell_type": "code",
   "execution_count": 23,
   "id": "63dbca10-b07b-4630-a0e4-894e077482a3",
   "metadata": {},
   "outputs": [],
   "source": [
    "# example of immutable objects:\n",
    "\n",
    "t = 'pwskills' #here t is strings."
   ]
  },
  {
   "cell_type": "code",
   "execution_count": 24,
   "id": "5b0c9f09-279b-4fc3-a714-e46cf989df6b",
   "metadata": {},
   "outputs": [
    {
     "data": {
      "text/plain": [
       "'pwskills'"
      ]
     },
     "execution_count": 24,
     "metadata": {},
     "output_type": "execute_result"
    }
   ],
   "source": [
    "t"
   ]
  },
  {
   "cell_type": "code",
   "execution_count": 25,
   "id": "62320887-3fd0-492c-b377-de61a8050679",
   "metadata": {},
   "outputs": [],
   "source": [
    "#lets change the letter p to h "
   ]
  },
  {
   "cell_type": "code",
   "execution_count": 26,
   "id": "0b633f0e-33a1-4787-a573-9276858872cb",
   "metadata": {},
   "outputs": [
    {
     "data": {
      "text/plain": [
       "'p'"
      ]
     },
     "execution_count": 26,
     "metadata": {},
     "output_type": "execute_result"
    }
   ],
   "source": [
    "t[0]"
   ]
  },
  {
   "cell_type": "code",
   "execution_count": 27,
   "id": "47b2969c-7e71-4bf3-96d7-b22989e866f7",
   "metadata": {},
   "outputs": [
    {
     "ename": "NameError",
     "evalue": "name 'h' is not defined",
     "output_type": "error",
     "traceback": [
      "\u001b[0;31m---------------------------------------------------------------------------\u001b[0m",
      "\u001b[0;31mNameError\u001b[0m                                 Traceback (most recent call last)",
      "Cell \u001b[0;32mIn[27], line 1\u001b[0m\n\u001b[0;32m----> 1\u001b[0m t[\u001b[38;5;241m0\u001b[39m]\u001b[38;5;241m=\u001b[39m\u001b[43mh\u001b[49m\n",
      "\u001b[0;31mNameError\u001b[0m: name 'h' is not defined"
     ]
    }
   ],
   "source": [
    "t[0]=h"
   ]
  },
  {
   "cell_type": "code",
   "execution_count": 28,
   "id": "a0bab8c8-012c-4aa6-85e0-7eb76c4880eb",
   "metadata": {},
   "outputs": [],
   "source": [
    "# this is giving an error, that is meeans the string cannot be modified."
   ]
  },
  {
   "cell_type": "markdown",
   "id": "0b94e1d2-ee37-46d9-85f3-43879c242c78",
   "metadata": {},
   "source": [
    "Question 4: Discuss the different types of operators in Python and provide exaamples of how they are used:\n",
    "\n",
    "Ans: There are few types of operators: \n",
    "\n",
    "#1 - Arithematic operators:"
   ]
  },
  {
   "cell_type": "code",
   "execution_count": 3,
   "id": "c764e7bd-3a7c-460d-b7d9-3a096de51f00",
   "metadata": {},
   "outputs": [
    {
     "data": {
      "text/plain": [
       "11"
      ]
     },
     "execution_count": 3,
     "metadata": {},
     "output_type": "execute_result"
    }
   ],
   "source": [
    "#arithematic operator: *, /, +, -\n",
    "\n",
    "5+6"
   ]
  },
  {
   "cell_type": "code",
   "execution_count": 4,
   "id": "ee735d37-e672-437f-9e44-38584d58fe3d",
   "metadata": {},
   "outputs": [
    {
     "data": {
      "text/plain": [
       "30"
      ]
     },
     "execution_count": 4,
     "metadata": {},
     "output_type": "execute_result"
    }
   ],
   "source": [
    "5*6"
   ]
  },
  {
   "cell_type": "code",
   "execution_count": 5,
   "id": "65de204d-3b69-4c39-ae3e-47c2ed3c4158",
   "metadata": {},
   "outputs": [
    {
     "data": {
      "text/plain": [
       "0.8333333333333334"
      ]
     },
     "execution_count": 5,
     "metadata": {},
     "output_type": "execute_result"
    }
   ],
   "source": [
    "5/6"
   ]
  },
  {
   "cell_type": "code",
   "execution_count": 6,
   "id": "5924f356-cfc2-4389-b424-68d931afdd41",
   "metadata": {},
   "outputs": [
    {
     "data": {
      "text/plain": [
       "3"
      ]
     },
     "execution_count": 6,
     "metadata": {},
     "output_type": "execute_result"
    }
   ],
   "source": [
    "5-2"
   ]
  },
  {
   "cell_type": "markdown",
   "id": "86fa5132-2b99-4fe6-b8b7-ee450eea6be0",
   "metadata": {},
   "source": [
    "2. Comparison operator:"
   ]
  },
  {
   "cell_type": "code",
   "execution_count": 7,
   "id": "198092c0-e162-440e-aa35-cacdab89aedf",
   "metadata": {},
   "outputs": [
    {
     "data": {
      "text/plain": [
       "False"
      ]
     },
     "execution_count": 7,
     "metadata": {},
     "output_type": "execute_result"
    }
   ],
   "source": [
    "a = 3\n",
    "b = 4\n",
    "\n",
    "3 > 4"
   ]
  },
  {
   "cell_type": "markdown",
   "id": "8c8e89cc-b1c2-454f-99bc-d462f9f055f6",
   "metadata": {},
   "source": [
    "3. Logical operator:"
   ]
  },
  {
   "cell_type": "code",
   "execution_count": 8,
   "id": "ad7d7490-be8f-4e7f-a7b6-70566aa13832",
   "metadata": {},
   "outputs": [
    {
     "data": {
      "text/plain": [
       "True"
      ]
     },
     "execution_count": 8,
     "metadata": {},
     "output_type": "execute_result"
    }
   ],
   "source": [
    "True and True"
   ]
  },
  {
   "cell_type": "code",
   "execution_count": 9,
   "id": "a69c22b6-e211-4c63-b6eb-8a6b1324ff1c",
   "metadata": {},
   "outputs": [
    {
     "data": {
      "text/plain": [
       "True"
      ]
     },
     "execution_count": 9,
     "metadata": {},
     "output_type": "execute_result"
    }
   ],
   "source": [
    "False or True"
   ]
  },
  {
   "cell_type": "code",
   "execution_count": 10,
   "id": "438bd40e-245c-4729-8326-622c484a7950",
   "metadata": {},
   "outputs": [
    {
     "data": {
      "text/plain": [
       "False"
      ]
     },
     "execution_count": 10,
     "metadata": {},
     "output_type": "execute_result"
    }
   ],
   "source": [
    "False and True"
   ]
  },
  {
   "cell_type": "markdown",
   "id": "2a9fe8cd-7c02-4ae7-b1f9-8fcdaad60397",
   "metadata": {},
   "source": [
    "4. membership operators"
   ]
  },
  {
   "cell_type": "code",
   "execution_count": 11,
   "id": "e3a5d730-6d14-484f-b091-d2914d046d85",
   "metadata": {},
   "outputs": [
    {
     "data": {
      "text/plain": [
       "False"
      ]
     },
     "execution_count": 11,
     "metadata": {},
     "output_type": "execute_result"
    }
   ],
   "source": [
    "a = ('pwskills')\n",
    "'y' in a"
   ]
  },
  {
   "cell_type": "markdown",
   "id": "7314bece-f6eb-4868-8e89-449431da962a",
   "metadata": {},
   "source": [
    "5. Identity Operators> compare the memory location of two objects"
   ]
  },
  {
   "cell_type": "code",
   "execution_count": 12,
   "id": "c2b4d3e5-0929-421d-80da-f343fece8785",
   "metadata": {},
   "outputs": [
    {
     "data": {
      "text/plain": [
       "True"
      ]
     },
     "execution_count": 12,
     "metadata": {},
     "output_type": "execute_result"
    }
   ],
   "source": [
    "a = 5\n",
    "b = 3\n",
    "a = b\n",
    "a is b"
   ]
  },
  {
   "cell_type": "markdown",
   "id": "05084391-5e49-4a03-ac84-0268aef848ba",
   "metadata": {},
   "source": [
    "6. Bitwise operator> operations done at bit levels"
   ]
  },
  {
   "cell_type": "code",
   "execution_count": 14,
   "id": "898c6216-56fb-4816-b179-06195c5e79d7",
   "metadata": {},
   "outputs": [
    {
     "data": {
      "text/plain": [
       "'0b1010'"
      ]
     },
     "execution_count": 14,
     "metadata": {},
     "output_type": "execute_result"
    }
   ],
   "source": [
    "bin(10)"
   ]
  },
  {
   "cell_type": "markdown",
   "id": "6d1ea1da-f98d-43db-acde-96ee6361239a",
   "metadata": {},
   "source": [
    "Question 5: Explain the concept of type casting in Python with examples.\n",
    "\n",
    "Answer: The concept of type casting in python is the process of changing datatype of variable or object in python is known as typecasting."
   ]
  },
  {
   "cell_type": "code",
   "execution_count": 16,
   "id": "f020b042-fd08-4772-8686-3fc0c04c7ab1",
   "metadata": {},
   "outputs": [
    {
     "data": {
      "text/plain": [
       "5"
      ]
     },
     "execution_count": 16,
     "metadata": {},
     "output_type": "execute_result"
    }
   ],
   "source": [
    "#example: \n",
    "a = '2'\n",
    "b = 3\n",
    "int(a) + b # '2' is a string so we will change the type of data into integer"
   ]
  },
  {
   "cell_type": "code",
   "execution_count": 17,
   "id": "2b0ca81b-4c7c-401d-90c4-450ab1ddaa5e",
   "metadata": {},
   "outputs": [
    {
     "name": "stdout",
     "output_type": "stream",
     "text": [
      "<class 'str'>\n",
      "<class 'int'>\n"
     ]
    }
   ],
   "source": [
    "#string to integer\n",
    "\n",
    "a = '2'\n",
    "print(type(a))\n",
    "print(type(int(a)))"
   ]
  },
  {
   "cell_type": "code",
   "execution_count": 18,
   "id": "4843a6da-b322-4125-8a93-41e3d0bbde5a",
   "metadata": {},
   "outputs": [
    {
     "data": {
      "text/plain": [
       "3"
      ]
     },
     "execution_count": 18,
     "metadata": {},
     "output_type": "execute_result"
    }
   ],
   "source": [
    "#float to integer\n",
    "a = 3.4\n",
    "int(a)"
   ]
  },
  {
   "cell_type": "code",
   "execution_count": 19,
   "id": "0dae0a48-08ac-4097-b42a-c4ee316bd951",
   "metadata": {},
   "outputs": [
    {
     "data": {
      "text/plain": [
       "7.0"
      ]
     },
     "execution_count": 19,
     "metadata": {},
     "output_type": "execute_result"
    }
   ],
   "source": [
    "#integer to float\n",
    "a = 2\n",
    "b = 5\n",
    "float(a) + b"
   ]
  },
  {
   "cell_type": "markdown",
   "id": "c3883806-794a-41f5-b4ca-b2454fc61874",
   "metadata": {},
   "source": [
    "Types of Type casting are 2\n",
    "1. Implicit typecasting\n",
    "2. Explicit typecasting"
   ]
  },
  {
   "cell_type": "markdown",
   "id": "fd7a9e71-ce32-4967-bb8a-b055b78ccd7d",
   "metadata": {},
   "source": [
    "1. Implicit tells the type of datatype, it is either- float, integer, string"
   ]
  },
  {
   "cell_type": "code",
   "execution_count": 21,
   "id": "7b6b754c-2553-4a45-b0be-f5f1c8e6116c",
   "metadata": {},
   "outputs": [
    {
     "data": {
      "text/plain": [
       "float"
      ]
     },
     "execution_count": 21,
     "metadata": {},
     "output_type": "execute_result"
    }
   ],
   "source": [
    "#example\n",
    "\n",
    "a = 4.5\n",
    "type(a) #it told the type of datatype."
   ]
  },
  {
   "cell_type": "markdown",
   "id": "1267e071-e423-42bd-b6c0-52cd0f369564",
   "metadata": {},
   "source": [
    "2. Explicit convert the data types into another data types."
   ]
  },
  {
   "cell_type": "code",
   "execution_count": 22,
   "id": "a7c8c680-5c80-4db8-8810-4197464efe1b",
   "metadata": {},
   "outputs": [
    {
     "data": {
      "text/plain": [
       "str"
      ]
     },
     "execution_count": 22,
     "metadata": {},
     "output_type": "execute_result"
    }
   ],
   "source": [
    "#example: \n",
    "a = '2'\n",
    "type(a)"
   ]
  },
  {
   "cell_type": "code",
   "execution_count": 24,
   "id": "29ea56fd-97a7-4b65-9ac4-c32ce0df5ce9",
   "metadata": {},
   "outputs": [
    {
     "data": {
      "text/plain": [
       "2.0"
      ]
     },
     "execution_count": 24,
     "metadata": {},
     "output_type": "execute_result"
    }
   ],
   "source": [
    "#now we will convert this string into float\n",
    "\n",
    "float(a)"
   ]
  },
  {
   "cell_type": "code",
   "execution_count": null,
   "id": "ea694cb8-5db8-4ab0-a621-9a82aecd06eb",
   "metadata": {},
   "outputs": [],
   "source": [
    "#this integer 2'"
   ]
  },
  {
   "cell_type": "code",
   "execution_count": 29,
   "id": "b3f2981a-1a60-4854-8eb4-b1f2fff00960",
   "metadata": {
    "jupyter": {
     "source_hidden": true
    },
    "tags": []
   },
   "outputs": [
    {
     "name": "stdout",
     "output_type": "stream",
     "text": [
      "the no. is greater than 0\n"
     ]
    }
   ],
   "source": [
    "#if statement: \n",
    "a=100\n",
    "if a>0: #execute the if block, is the condition is true\n",
    "    print('the no. is greater than 0') #indentation is mandatory clik on tab or else 4 spaces."
   ]
  },
  {
   "cell_type": "markdown",
   "id": "9dd1898e-8e81-4d2f-b13a-a61c8f0eb362",
   "metadata": {},
   "source": [
    "Question 6: How do conditional statements work in Python? Illustrate with examples.\n",
    "\n",
    "Answer: Conditional statments Help us to code decisions based on some precondition.\n",
    "        Type of conditional statements : \n",
    "        1. if \n",
    "        2. if-else\n",
    "        3. if-elif-else\n",
    "        4. nested if-else"
   ]
  },
  {
   "cell_type": "code",
   "execution_count": 30,
   "id": "7e353c00-57e0-47d2-bd12-ab5cb8822cff",
   "metadata": {},
   "outputs": [],
   "source": [
    "a=100\n",
    "if a<0: #do not execute the if block, is the condition is false\n",
    "    print('the no. is greater than 0')"
   ]
  },
  {
   "cell_type": "code",
   "execution_count": 31,
   "id": "3119d3d7-1270-4321-b2d3-98306c4739bb",
   "metadata": {},
   "outputs": [],
   "source": [
    "#nothing got printed!"
   ]
  },
  {
   "cell_type": "code",
   "execution_count": 33,
   "id": "1e7fe55b-7eb6-455c-91c9-065fbfbdf422",
   "metadata": {},
   "outputs": [
    {
     "name": "stdout",
     "output_type": "stream",
     "text": [
      "We will not go to the playground.\n"
     ]
    }
   ],
   "source": [
    "#another example:\n",
    "\n",
    "weather='rainy'\n",
    "if weather=='rainy': #execute the if block, if the weather is rainy\n",
    "    print('We will not go to the playground.')"
   ]
  },
  {
   "cell_type": "code",
   "execution_count": 45,
   "id": "3ab608d5-1500-4e50-a414-5e822813f6be",
   "metadata": {},
   "outputs": [
    {
     "name": "stdout",
     "output_type": "stream",
     "text": [
      "we will watch TV\n"
     ]
    }
   ],
   "source": [
    "#if-else statements: it will execute the if block when the condition is true or else false.\n",
    "# if one condition is not enough then we will try to find more options.\n",
    "#example- if the weather is not rainy, i will go to play cricket or else i will watch TV.\n",
    "\n",
    "weather='sunny'\n",
    "if weather=='rainy': \n",
    "    print('We will go to the playground.')\n",
    "else:\n",
    "    print('we will watch TV')"
   ]
  },
  {
   "cell_type": "code",
   "execution_count": 46,
   "id": "791ee9b4-42af-475f-8df4-25bf599a1ac1",
   "metadata": {},
   "outputs": [],
   "source": [
    "#here condition is rainy but the weather is sunny, that means we will watch tv instead of playing."
   ]
  },
  {
   "cell_type": "code",
   "execution_count": 58,
   "id": "70546370-a44a-4a70-9dce-f4cc2cdbbfe8",
   "metadata": {},
   "outputs": [
    {
     "name": "stdout",
     "output_type": "stream",
     "text": [
      "this block will be executed if a is equals to 100\n"
     ]
    }
   ],
   "source": [
    "#if-elif-else(else if)\n",
    "a = 100\n",
    "if a > 100:\n",
    "    print('this block will be executed if a is greater than 100')\n",
    "elif a < 100:\n",
    "    print('this block will be executed if a is smaller than 100')\n",
    "elif a == 90:\n",
    "    print('this block will be executed if a is equal to 90')\n",
    "else:\n",
    "    print('this block will be executed if a is equals to 100')\n",
    "    "
   ]
  },
  {
   "cell_type": "code",
   "execution_count": 70,
   "id": "c1bee8ed-07c6-4c93-93f7-c3a37173e013",
   "metadata": {},
   "outputs": [
    {
     "name": "stdout",
     "output_type": "stream",
     "text": [
      " you are not vip and not eligible for senior citizen offers\n"
     ]
    }
   ],
   "source": [
    "# nested if-else\n",
    "#it means there are multiple if else inside if else.\n",
    "\n",
    "#examples:\n",
    "\n",
    "is_vip= False\n",
    "age = 15\n",
    "if is_vip:\n",
    "    if age >= 18:\n",
    "        if age < 65:\n",
    "            print( 'welcome to vip customer')\n",
    "        else:\n",
    "            print('you are vip and very precious for us')\n",
    "else:        \n",
    "    print(' you are not vip and not eligible for senior citizen offers')\n",
    "    "
   ]
  },
  {
   "cell_type": "markdown",
   "id": "029d6d16-15b5-48f9-9ac3-99a677bd9046",
   "metadata": {},
   "source": [
    "#Qouestion7 :  Describe the different types of loops in Python and their use cases with examples.\n",
    "\n",
    "#Answer: There are 2 types of Loops in Python:\n",
    "         1. While\n",
    "         2. for"
   ]
  },
  {
   "cell_type": "code",
   "execution_count": 2,
   "id": "43557478-3da7-4330-bf70-641c1fcbcada",
   "metadata": {},
   "outputs": [
    {
     "name": "stdout",
     "output_type": "stream",
     "text": [
      "2\n",
      "3\n",
      "4\n",
      "5\n",
      "6\n"
     ]
    }
   ],
   "source": [
    "#while loop and examples\n",
    "#While loop- Repeatedly execute the block of code until the conditions are met.\n",
    "#examples-\n",
    "\n",
    "m = 7\n",
    "i = 2\n",
    "while i < m:\n",
    "    print(i)\n",
    "    i = i + 1"
   ]
  },
  {
   "cell_type": "code",
   "execution_count": 3,
   "id": "90b05fe7-3b19-499e-86a5-7cdd1cc8062d",
   "metadata": {},
   "outputs": [
    {
     "name": "stdout",
     "output_type": "stream",
     "text": [
      "2\n",
      "3\n",
      "4\n",
      "5\n",
      "6\n",
      "This will be executed when the while will run successfully without any break\n"
     ]
    }
   ],
   "source": [
    "#WHILE-ELSE\n",
    "\n",
    "m = 7\n",
    "i = 2\n",
    "while i < m:\n",
    "    print(i)\n",
    "    i = i + 1\n",
    "else:\n",
    "    print('This will be executed when the while will run successfully without any break')"
   ]
  },
  {
   "cell_type": "code",
   "execution_count": 5,
   "id": "5026c45c-abdf-46a8-a621-b1e469b43e7d",
   "metadata": {},
   "outputs": [
    {
     "name": "stdout",
     "output_type": "stream",
     "text": [
      "2\n"
     ]
    }
   ],
   "source": [
    "#there is a condition here states 'BREAK' >> this will break the loop> if the condition is met it will stop.\n",
    "#example- \n",
    "\n",
    "m = 7\n",
    "i = 2\n",
    "while i < m:\n",
    "    print(i)\n",
    "    i = i + 1\n",
    "    if i == 3:\n",
    "        break #break condition\n",
    "else:\n",
    "    print('This will be executed when the while will run successfully without any break')\n"
   ]
  },
  {
   "cell_type": "code",
   "execution_count": 6,
   "id": "f805606d-0a3c-43b3-947c-ee5201b29ef4",
   "metadata": {},
   "outputs": [
    {
     "name": "stdout",
     "output_type": "stream",
     "text": [
      "8\n",
      "7\n",
      "6\n",
      "5\n",
      "4\n",
      "3\n"
     ]
    }
   ],
   "source": [
    "#example-while loop\n",
    "\n",
    "pen = 8\n",
    "while pen > 2:\n",
    "    print(pen)\n",
    "    pen = pen - 1"
   ]
  },
  {
   "cell_type": "code",
   "execution_count": 7,
   "id": "768ae0c3-f542-43cb-968e-091d95ba0946",
   "metadata": {},
   "outputs": [
    {
     "name": "stdout",
     "output_type": "stream",
     "text": [
      "8\n",
      "7\n",
      "6\n",
      "5\n",
      "4\n",
      "3\n",
      "This code will be excecuted till 3\n"
     ]
    }
   ],
   "source": [
    "#while-else for the above code.\n",
    "\n",
    "pen = 8\n",
    "while pen > 2:\n",
    "    print(pen)\n",
    "    pen = pen - 1\n",
    "else:\n",
    "    print('This code will be excecuted till 3')"
   ]
  },
  {
   "cell_type": "code",
   "execution_count": 15,
   "id": "51cf0c7f-1407-46b3-83ca-3eb22881490e",
   "metadata": {},
   "outputs": [
    {
     "name": "stdout",
     "output_type": "stream",
     "text": [
      "8\n",
      "7\n"
     ]
    }
   ],
   "source": [
    "# above code with break condition\n",
    "\n",
    "pen = 8\n",
    "while pen > 0:\n",
    "    print(pen)\n",
    "    pen = pen - 1\n",
    "    if pen == 6:\n",
    "        break"
   ]
  },
  {
   "cell_type": "code",
   "execution_count": 16,
   "id": "5ead3a46-382a-47d6-9b55-1efe4967506d",
   "metadata": {},
   "outputs": [
    {
     "name": "stdout",
     "output_type": "stream",
     "text": [
      "1\n",
      "2\n",
      "tulika\n",
      "pw\n",
      "4\n"
     ]
    }
   ],
   "source": [
    "#for loop and examples.\n",
    "#For loops: Iterate over a sequence of elements. This can be done in string as well as in lists.\n",
    "\n",
    "l = [ 1, 2, 'tulika', 'pw', 4]\n",
    "for a in l:\n",
    "    print(a)"
   ]
  },
  {
   "cell_type": "code",
   "execution_count": 30,
   "id": "688da722-9145-48b9-ab34-66ff3b61a762",
   "metadata": {},
   "outputs": [
    {
     "name": "stdout",
     "output_type": "stream",
     "text": [
      "P\n",
      "w\n",
      "s\n",
      "k\n",
      "i\n",
      "l\n",
      "l\n",
      "s\n"
     ]
    }
   ],
   "source": [
    "a = \"Pwskills\"\n",
    "for i in a:\n",
    "    print(i)"
   ]
  },
  {
   "cell_type": "code",
   "execution_count": 17,
   "id": "48f3fef3-9be7-4636-8014-15337abd97f5",
   "metadata": {},
   "outputs": [
    {
     "name": "stdout",
     "output_type": "stream",
     "text": [
      "1\n",
      "2\n",
      "tulika\n",
      "pw\n",
      "4\n",
      "this will be excuted when for loop ends without any break\n"
     ]
    }
   ],
   "source": [
    "# for- else\n",
    "\n",
    "l = [ 1, 2, 'tulika', 'pw', 4]\n",
    "for a in l:\n",
    "    print(a)\n",
    "else:\n",
    "    print('this will be excuted when for loop ends without any break')\n"
   ]
  },
  {
   "cell_type": "code",
   "execution_count": 18,
   "id": "e262591e-f371-4a13-9ec7-3dbab87a6367",
   "metadata": {},
   "outputs": [],
   "source": [
    "# for- break statement"
   ]
  },
  {
   "cell_type": "code",
   "execution_count": 19,
   "id": "3225a00b-991a-4712-897e-d6d3f6877163",
   "metadata": {},
   "outputs": [
    {
     "name": "stdout",
     "output_type": "stream",
     "text": [
      "1\n",
      "2\n",
      "tulika\n",
      "pw\n"
     ]
    }
   ],
   "source": [
    "l = [ 1, 2, 'tulika', 'pw', 4]\n",
    "for a in l:\n",
    "    print(a)\n",
    "    if a == 'pw':\n",
    "        break    \n",
    "else:\n",
    "    print('this will be excuted when for loop ends without any break')"
   ]
  },
  {
   "cell_type": "code",
   "execution_count": 25,
   "id": "065417ce-6f3e-43de-ab42-d7003d08bb56",
   "metadata": {},
   "outputs": [
    {
     "name": "stdout",
     "output_type": "stream",
     "text": [
      "1\n",
      "1\n",
      "2\n",
      "2\n",
      "tulika\n",
      "tulika\n",
      "pw\n",
      "4\n",
      "4\n",
      "this will be excuted\n"
     ]
    }
   ],
   "source": [
    "# for- continue statement\n",
    "\n",
    "l = [ 1, 2, 'tulika', 'pw', 4]\n",
    "for a in l:\n",
    "    print(a)\n",
    "    if a == 'pw':\n",
    "        continue   \n",
    "    print(a)\n",
    "else:\n",
    "    print('this will be excuted')"
   ]
  },
  {
   "cell_type": "code",
   "execution_count": null,
   "id": "e04353e1-2c41-47a0-945b-eda164453ee7",
   "metadata": {},
   "outputs": [],
   "source": []
  }
 ],
 "metadata": {
  "kernelspec": {
   "display_name": "Python 3 (ipykernel)",
   "language": "python",
   "name": "python3"
  },
  "language_info": {
   "codemirror_mode": {
    "name": "ipython",
    "version": 3
   },
   "file_extension": ".py",
   "mimetype": "text/x-python",
   "name": "python",
   "nbconvert_exporter": "python",
   "pygments_lexer": "ipython3",
   "version": "3.10.8"
  }
 },
 "nbformat": 4,
 "nbformat_minor": 5
}
