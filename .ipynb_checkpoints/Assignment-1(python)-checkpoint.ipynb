{
 "cells": [
  {
   "cell_type": "markdown",
   "id": "01b6c4e2-540f-453e-8cb5-be9186358bd9",
   "metadata": {},
   "source": [
    "Assignment - 1 (Basic Python)\n"
   ]
  },
  {
   "cell_type": "raw",
   "id": "dfb4475c-02e1-4704-81f4-85bf967f33d6",
   "metadata": {},
   "source": [
    "# Question 1  :  explain the key featu$es of Python that make it a popular choice for programming.\n",
    "# Ans: The key features of python that make it a popular choice for programming than other programming \n",
    "languages are following:\n",
    "1. Python is widely used in this industry.\n",
    "2. It is way more easier to learn in comparative to other languages.\n",
    "3. Python has libraries more than 137000.\n",
    "4. It has huge active community.\n"
   ]
  },
  {
   "cell_type": "raw",
   "id": "9b01beaf-8e5b-4acd-a59c-8e1b40aeed0b",
   "metadata": {},
   "source": [
    "# Question 2 :Describe the role of predefined keywords in Python and provide exaamples of how they are used in a program.\n",
    "# Ans: Role of predeifined keywords in python are to execute the code which python itself understand the commands."
   ]
  },
  {
   "cell_type": "code",
   "execution_count": 1,
   "id": "f7d5abf0-c47e-489b-9b8a-cf453ea5bc61",
   "metadata": {},
   "outputs": [
    {
     "name": "stdout",
     "output_type": "stream",
     "text": [
      "\n",
      "Here is a list of the Python keywords.  Enter any keyword to get more help.\n",
      "\n",
      "False               class               from                or\n",
      "None                continue            global              pass\n",
      "True                def                 if                  raise\n",
      "and                 del                 import              return\n",
      "as                  elif                in                  try\n",
      "assert              else                is                  while\n",
      "async               except              lambda              with\n",
      "await               finally             nonlocal            yield\n",
      "break               for                 not                 \n",
      "\n"
     ]
    }
   ],
   "source": [
    "# these are the keywords which is there in the python which is predefined.\n",
    "\n",
    "help('keywords')"
   ]
  },
  {
   "cell_type": "code",
   "execution_count": 2,
   "id": "7345b586-8481-46fa-a6f4-fdf8751667d7",
   "metadata": {},
   "outputs": [
    {
     "data": {
      "text/plain": [
       "int"
      ]
     },
     "execution_count": 2,
     "metadata": {},
     "output_type": "execute_result"
    }
   ],
   "source": [
    "#abover are the predefined keywords.\n",
    "# Examples of predifined keywords:\n",
    "\n",
    "a = 3\n",
    "type(a)"
   ]
  },
  {
   "cell_type": "code",
   "execution_count": 3,
   "id": "8d1113a3-4c17-495a-94ec-6b5019a7b7ac",
   "metadata": {},
   "outputs": [],
   "source": [
    "#here with the help you keyword (type), we got to know about the type of (a) which is integer-3."
   ]
  },
  {
   "cell_type": "raw",
   "id": "6ceb8616-468a-45fc-8619-a517d7958e59",
   "metadata": {},
   "source": [
    "# Question 3: Compare and contrast mutable and immutable objects in Python with exaamples.\n",
    "\n",
    "# Ans : 1. Mutable objects- These are the objects in which the set of list, containers and data structues whose state or value can be changed after they are created are called as Mutable objects or container.\n",
    "For example- lists"
   ]
  },
  {
   "cell_type": "code",
   "execution_count": 16,
   "id": "1f1eed07-90ac-46e8-9ca9-39cfe972d2e5",
   "metadata": {},
   "outputs": [],
   "source": [
    "# example of mutable objects:\n",
    "# I have a list of different items below: "
   ]
  },
  {
   "cell_type": "code",
   "execution_count": 17,
   "id": "cfe63c2d-7eee-42e7-952b-8840bb79d7f2",
   "metadata": {},
   "outputs": [],
   "source": [
    "Grocery_list = ['tulika', 2, 3, 4, 'pwskills', 6]"
   ]
  },
  {
   "cell_type": "code",
   "execution_count": 9,
   "id": "7819856d-b7f2-4e01-a9b0-21cd35ce3f77",
   "metadata": {},
   "outputs": [],
   "source": [
    "#if I want to modify anything in this list, i can do that be using the method of indexing and negative indexing.\n",
    "# 'tulika' is 0, 2 is 1, 3 is 2, 4 is 3, 'pwskills is 4, 6 is 5."
   ]
  },
  {
   "cell_type": "code",
   "execution_count": 15,
   "id": "1b2cbb17-994b-4bc9-9540-377c29140990",
   "metadata": {},
   "outputs": [],
   "source": [
    "# if I want to change 'tulika' in this list to ' reena' then, "
   ]
  },
  {
   "cell_type": "code",
   "execution_count": 18,
   "id": "0f987eea-c371-4271-99cb-7b395281b311",
   "metadata": {},
   "outputs": [
    {
     "data": {
      "text/plain": [
       "'tulika'"
      ]
     },
     "execution_count": 18,
     "metadata": {},
     "output_type": "execute_result"
    }
   ],
   "source": [
    "Grocery_list[0]"
   ]
  },
  {
   "cell_type": "code",
   "execution_count": 19,
   "id": "759c8c17-b08d-4aac-a1e2-3ac47854d47c",
   "metadata": {},
   "outputs": [],
   "source": [
    "Grocery_list[0]='reena'"
   ]
  },
  {
   "cell_type": "code",
   "execution_count": 20,
   "id": "3e2c7228-a3d5-482d-a71f-cdcd28acf488",
   "metadata": {},
   "outputs": [
    {
     "data": {
      "text/plain": [
       "'reena'"
      ]
     },
     "execution_count": 20,
     "metadata": {},
     "output_type": "execute_result"
    }
   ],
   "source": [
    "Grocery_list[0]"
   ]
  },
  {
   "cell_type": "code",
   "execution_count": 22,
   "id": "ac490347-c0c2-43fc-9fef-61c68c72feef",
   "metadata": {},
   "outputs": [
    {
     "data": {
      "text/plain": [
       "['reena', 2, 3, 4, 'pwskills', 6]"
      ]
     },
     "execution_count": 22,
     "metadata": {},
     "output_type": "execute_result"
    }
   ],
   "source": [
    "Grocery_list"
   ]
  },
  {
   "cell_type": "raw",
   "id": "257ff8a6-4423-409d-9c2c-dcfc19952cb1",
   "metadata": {},
   "source": [
    "Immutable objects: These are the objects in which the set of list, containers and data structues whose state or value cannot be changed after they are created are called as immutable objects or container.\n",
    "For example- strings"
   ]
  },
  {
   "cell_type": "code",
   "execution_count": 23,
   "id": "63dbca10-b07b-4630-a0e4-894e077482a3",
   "metadata": {},
   "outputs": [],
   "source": [
    "# example of immutable objects:\n",
    "\n",
    "t = 'pwskills' #here t is strings."
   ]
  },
  {
   "cell_type": "code",
   "execution_count": 24,
   "id": "5b0c9f09-279b-4fc3-a714-e46cf989df6b",
   "metadata": {},
   "outputs": [
    {
     "data": {
      "text/plain": [
       "'pwskills'"
      ]
     },
     "execution_count": 24,
     "metadata": {},
     "output_type": "execute_result"
    }
   ],
   "source": [
    "t"
   ]
  },
  {
   "cell_type": "code",
   "execution_count": 25,
   "id": "62320887-3fd0-492c-b377-de61a8050679",
   "metadata": {},
   "outputs": [],
   "source": [
    "#lets change the letter p to h "
   ]
  },
  {
   "cell_type": "code",
   "execution_count": 26,
   "id": "0b633f0e-33a1-4787-a573-9276858872cb",
   "metadata": {},
   "outputs": [
    {
     "data": {
      "text/plain": [
       "'p'"
      ]
     },
     "execution_count": 26,
     "metadata": {},
     "output_type": "execute_result"
    }
   ],
   "source": [
    "t[0]"
   ]
  },
  {
   "cell_type": "code",
   "execution_count": 27,
   "id": "47b2969c-7e71-4bf3-96d7-b22989e866f7",
   "metadata": {},
   "outputs": [
    {
     "ename": "NameError",
     "evalue": "name 'h' is not defined",
     "output_type": "error",
     "traceback": [
      "\u001b[0;31m---------------------------------------------------------------------------\u001b[0m",
      "\u001b[0;31mNameError\u001b[0m                                 Traceback (most recent call last)",
      "Cell \u001b[0;32mIn[27], line 1\u001b[0m\n\u001b[0;32m----> 1\u001b[0m t[\u001b[38;5;241m0\u001b[39m]\u001b[38;5;241m=\u001b[39m\u001b[43mh\u001b[49m\n",
      "\u001b[0;31mNameError\u001b[0m: name 'h' is not defined"
     ]
    }
   ],
   "source": [
    "t[0]=h"
   ]
  },
  {
   "cell_type": "code",
   "execution_count": 28,
   "id": "a0bab8c8-012c-4aa6-85e0-7eb76c4880eb",
   "metadata": {},
   "outputs": [],
   "source": [
    "# this is giving an error, that is meeans the string cannot be modified."
   ]
  },
  {
   "cell_type": "raw",
   "id": "232b0d54-c73e-43a3-bca5-be54a0534947",
   "metadata": {},
   "source": [
    "Question 4: Discuss the different types of operators in Python and provide exaamples of how they are used:\n",
    "\n",
    "Ans: \n",
    "\n"
   ]
  },
  {
   "cell_type": "raw",
   "id": "9858d27a-4c9c-4500-83c4-0fea41804a2c",
   "metadata": {},
   "source": [
    "Question 6: How do conditional statements work in Python? Illustrate with examples.\n",
    "\n",
    "Answer: Conditional statments Help us to code decisions based on some precondition.\n",
    "        Type of conditional statements : \n",
    "        1. if \n",
    "        2. if-else\n",
    "        3. if-elif-else\n",
    "        4. nested if-else"
   ]
  },
  {
   "cell_type": "code",
   "execution_count": 29,
   "id": "b3f2981a-1a60-4854-8eb4-b1f2fff00960",
   "metadata": {},
   "outputs": [
    {
     "name": "stdout",
     "output_type": "stream",
     "text": [
      "the no. is greater than 0\n"
     ]
    }
   ],
   "source": [
    "#if statement: \n",
    "a=100\n",
    "if a>0: #execute the if block, is the condition is true\n",
    "    print('the no. is greater than 0') #indentation is mandatory clik on tab or else 4 spaces."
   ]
  },
  {
   "cell_type": "code",
   "execution_count": 30,
   "id": "7e353c00-57e0-47d2-bd12-ab5cb8822cff",
   "metadata": {},
   "outputs": [],
   "source": [
    "a=100\n",
    "if a<0: #do not execute the if block, is the condition is false\n",
    "    print('the no. is greater than 0')"
   ]
  },
  {
   "cell_type": "code",
   "execution_count": 31,
   "id": "3119d3d7-1270-4321-b2d3-98306c4739bb",
   "metadata": {},
   "outputs": [],
   "source": [
    "#nothing got printed!"
   ]
  },
  {
   "cell_type": "code",
   "execution_count": 33,
   "id": "1e7fe55b-7eb6-455c-91c9-065fbfbdf422",
   "metadata": {},
   "outputs": [
    {
     "name": "stdout",
     "output_type": "stream",
     "text": [
      "We will not go to the playground.\n"
     ]
    }
   ],
   "source": [
    "#another example:\n",
    "\n",
    "weather='rainy'\n",
    "if weather=='rainy': #execute the if block, if the weather is rainy\n",
    "    print('We will not go to the playground.')"
   ]
  },
  {
   "cell_type": "code",
   "execution_count": 45,
   "id": "3ab608d5-1500-4e50-a414-5e822813f6be",
   "metadata": {},
   "outputs": [
    {
     "name": "stdout",
     "output_type": "stream",
     "text": [
      "we will watch TV\n"
     ]
    }
   ],
   "source": [
    "#if-else statements: it will execute the if block when the condition is true or else false.\n",
    "# if one condition is not enough then we will try to find more options.\n",
    "#example- if the weather is not rainy, i will go to play cricket or else i will watch TV.\n",
    "\n",
    "weather='sunny'\n",
    "if weather=='rainy': \n",
    "    print('We will go to the playground.')\n",
    "else:\n",
    "    print('we will watch TV')"
   ]
  },
  {
   "cell_type": "code",
   "execution_count": 46,
   "id": "791ee9b4-42af-475f-8df4-25bf599a1ac1",
   "metadata": {},
   "outputs": [],
   "source": [
    "#here condition is rainy but the weather is sunny, that means we will watch tv instead of playing."
   ]
  },
  {
   "cell_type": "code",
   "execution_count": 58,
   "id": "70546370-a44a-4a70-9dce-f4cc2cdbbfe8",
   "metadata": {},
   "outputs": [
    {
     "name": "stdout",
     "output_type": "stream",
     "text": [
      "this block will be executed if a is equals to 100\n"
     ]
    }
   ],
   "source": [
    "#if-elif-else(else if)\n",
    "a = 100\n",
    "if a > 100:\n",
    "    print('this block will be executed if a is greater than 100')\n",
    "elif a < 100:\n",
    "    print('this block will be executed if a is smaller than 100')\n",
    "elif a == 90:\n",
    "    print('this block will be executed if a is equal to 90')\n",
    "else:\n",
    "    print('this block will be executed if a is equals to 100')\n",
    "    "
   ]
  },
  {
   "cell_type": "code",
   "execution_count": 70,
   "id": "c1bee8ed-07c6-4c93-93f7-c3a37173e013",
   "metadata": {},
   "outputs": [
    {
     "name": "stdout",
     "output_type": "stream",
     "text": [
      " you are not vip and not eligible for senior citizen offers\n"
     ]
    }
   ],
   "source": [
    "# nested if-else\n",
    "#it means there are multiple if else inside if else.\n",
    "\n",
    "#examples:\n",
    "\n",
    "is_vip= False\n",
    "age = 15\n",
    "if is_vip:\n",
    "    if age >= 18:\n",
    "        if age < 65:\n",
    "            print( 'welcome to vip customer')\n",
    "        else:\n",
    "            print('you are vip and very precious for us')\n",
    "else:        \n",
    "    print(' you are not vip and not eligible for senior citizen offers')\n",
    "    "
   ]
  },
  {
   "cell_type": "raw",
   "id": "6c07dc87-f7ca-4dbf-bcd6-af757f4de98d",
   "metadata": {},
   "source": [
    "#Qouestion7 :  Describe the different types of loops in Python and their use cases with examples.\n",
    "\n",
    "#Answer: "
   ]
  }
 ],
 "metadata": {
  "kernelspec": {
   "display_name": "Python 3 (ipykernel)",
   "language": "python",
   "name": "python3"
  },
  "language_info": {
   "codemirror_mode": {
    "name": "ipython",
    "version": 3
   },
   "file_extension": ".py",
   "mimetype": "text/x-python",
   "name": "python",
   "nbconvert_exporter": "python",
   "pygments_lexer": "ipython3",
   "version": "3.10.8"
  }
 },
 "nbformat": 4,
 "nbformat_minor": 5
}
