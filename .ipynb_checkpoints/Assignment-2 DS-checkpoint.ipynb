{
 "cells": [
  {
   "cell_type": "markdown",
   "id": "3823b604-d244-46d7-ba78-28bc00f4b3ba",
   "metadata": {},
   "source": [
    "Assignment-2 (DATA STRUCTURE)"
   ]
  },
  {
   "cell_type": "markdown",
   "id": "b9eb654d-deae-4423-a8e3-26445ef7b40e",
   "metadata": {},
   "source": [
    "#Question 1- Discuss string slicing and provide examples."
   ]
  },
  {
   "cell_type": "raw",
   "id": "ada34371-2137-4f79-8643-6e4c89ac1e92",
   "metadata": {},
   "source": [
    "#ANSWER- \n",
    "The string slicing is a method in which extracting method is done in 3 steps with the help of indices and negative\n",
    "indices.\n",
    "1.start\n",
    "2.stop\n",
    "3.step\n",
    "\n",
    "examples:"
   ]
  },
  {
   "cell_type": "code",
   "execution_count": 2,
   "id": "f8cacf2e-e50a-433b-a6ac-3c11aa9b0979",
   "metadata": {},
   "outputs": [
    {
     "data": {
      "text/plain": [
       "'ell'"
      ]
     },
     "execution_count": 2,
     "metadata": {},
     "output_type": "execute_result"
    }
   ],
   "source": [
    "e= \"Hello world\"\n",
    "e[1:4]"
   ]
  },
  {
   "cell_type": "code",
   "execution_count": 3,
   "id": "7c14bed1-5c6f-4b51-ab42-b8fe40d783be",
   "metadata": {},
   "outputs": [
    {
     "data": {
      "text/plain": [
       "'Hello'"
      ]
     },
     "execution_count": 3,
     "metadata": {},
     "output_type": "execute_result"
    }
   ],
   "source": [
    "e= \"Hello world\"\n",
    "e[:5]"
   ]
  },
  {
   "cell_type": "code",
   "execution_count": 7,
   "id": "a85625ed-74f6-4357-b1fe-63305f17b843",
   "metadata": {},
   "outputs": [
    {
     "data": {
      "text/plain": [
       "'Hello world'"
      ]
     },
     "execution_count": 7,
     "metadata": {},
     "output_type": "execute_result"
    }
   ],
   "source": [
    "#negative indices.\n",
    "e= \"Hello world\"\n",
    "e[-11:]"
   ]
  },
  {
   "cell_type": "markdown",
   "id": "bdd907f1-ef3d-4feb-a42d-3224ae072eb3",
   "metadata": {},
   "source": [
    "#question 2- Explain the key features of lists in Python."
   ]
  },
  {
   "cell_type": "raw",
   "id": "3b41d903-1c1c-43cb-8144-b9a75dddf459",
   "metadata": {},
   "source": [
    "#Answer 2- The key features of list are:\n",
    "The lists are the ordered collection of elements also it can hold various types of data structures like float, string, int, tuples.\n",
    "The lists are mutable which means they can get change.\n",
    "\n",
    "We can modify, add, and remove the elements from the list."
   ]
  },
  {
   "cell_type": "code",
   "execution_count": 37,
   "id": "cccb9e85-6783-423f-b747-ae36240d6c8c",
   "metadata": {},
   "outputs": [],
   "source": [
    "Mobile_list= [123, 456, 4.5, \"jam\", \"butter\"]"
   ]
  },
  {
   "cell_type": "markdown",
   "id": "465076d7-85a5-46e1-9d72-6fed49e5dbec",
   "metadata": {},
   "source": [
    "Question 3- Describe how to access, modify, and delete elements in a list with examples.\n",
    "\n",
    "Answer 3- "
   ]
  },
  {
   "cell_type": "code",
   "execution_count": 23,
   "id": "d3181b8f-a87a-433e-b223-10b499c6a8ea",
   "metadata": {},
   "outputs": [],
   "source": [
    "Shopping_list=[\"Bread\",\"jam\", 345, 4.5] "
   ]
  },
  {
   "cell_type": "code",
   "execution_count": 24,
   "id": "c4046451-e83f-4376-86e4-4fa73d9168ad",
   "metadata": {},
   "outputs": [],
   "source": [
    "#this is the list above and it contains every type of data structures: string, float, int."
   ]
  },
  {
   "cell_type": "raw",
   "id": "b709a008-fe29-4816-80fd-cf96f8ba1d54",
   "metadata": {},
   "source": [
    "We will access the elements using indexing method-"
   ]
  },
  {
   "cell_type": "code",
   "execution_count": 25,
   "id": "44329672-92cb-4d49-9ce5-c8cee4863800",
   "metadata": {},
   "outputs": [
    {
     "data": {
      "text/plain": [
       "'jam'"
      ]
     },
     "execution_count": 25,
     "metadata": {},
     "output_type": "execute_result"
    }
   ],
   "source": [
    "Shopping_list=[\"Bread\",\"jam\", 345, 4.5] \n",
    "\n",
    "Shopping_list[1]"
   ]
  },
  {
   "cell_type": "code",
   "execution_count": 26,
   "id": "6b722bff-9ccf-42f9-9403-7031546eba27",
   "metadata": {},
   "outputs": [
    {
     "data": {
      "text/plain": [
       "345"
      ]
     },
     "execution_count": 26,
     "metadata": {},
     "output_type": "execute_result"
    }
   ],
   "source": [
    "Shopping_list[-2]"
   ]
  },
  {
   "cell_type": "raw",
   "id": "2309b727-3a37-42de-a1a1-3eb68f1ed91c",
   "metadata": {},
   "source": [
    "We will add the elements in the existing list using keyword (append)."
   ]
  },
  {
   "cell_type": "code",
   "execution_count": 27,
   "id": "3be35b3a-a789-4f00-b5d0-ae1dbd4c32ca",
   "metadata": {},
   "outputs": [],
   "source": [
    "Shopping_list=[\"Bread\",\"jam\", 345, 4.5] \n",
    "Shopping_list.append(\"diamond\")"
   ]
  },
  {
   "cell_type": "code",
   "execution_count": 28,
   "id": "7554796d-ed4e-44a3-a37d-2b3879c8e89c",
   "metadata": {},
   "outputs": [
    {
     "data": {
      "text/plain": [
       "['Bread', 'jam', 345, 4.5, 'diamond']"
      ]
     },
     "execution_count": 28,
     "metadata": {},
     "output_type": "execute_result"
    }
   ],
   "source": [
    "Shopping_list"
   ]
  },
  {
   "cell_type": "code",
   "execution_count": 30,
   "id": "2108a099-921c-4674-8245-e96c50222006",
   "metadata": {},
   "outputs": [],
   "source": [
    "#the elements are added in the list."
   ]
  },
  {
   "cell_type": "raw",
   "id": "b7c253f8-09bb-4184-867d-c83b313bb05d",
   "metadata": {},
   "source": [
    "We will modify the elements:"
   ]
  },
  {
   "cell_type": "code",
   "execution_count": 31,
   "id": "a9126706-5ed0-481b-a2bf-8e03dae34279",
   "metadata": {},
   "outputs": [],
   "source": [
    "Shopping_list=[\"Bread\",\"jam\", 345, 4.5] "
   ]
  },
  {
   "cell_type": "code",
   "execution_count": 32,
   "id": "ef3fbc30-1acb-4f60-8f77-78e65fb4ca96",
   "metadata": {},
   "outputs": [],
   "source": [
    "Shopping_list[0]= \"pav bhaji\""
   ]
  },
  {
   "cell_type": "code",
   "execution_count": 33,
   "id": "2951c777-6aa8-4771-be2c-b06501c9a042",
   "metadata": {},
   "outputs": [
    {
     "data": {
      "text/plain": [
       "['pav bhaji', 'jam', 345, 4.5]"
      ]
     },
     "execution_count": 33,
     "metadata": {},
     "output_type": "execute_result"
    }
   ],
   "source": [
    "Shopping_list"
   ]
  },
  {
   "cell_type": "raw",
   "id": "1bbc5d6d-18ff-487f-8784-dce117e009ed",
   "metadata": {},
   "source": [
    "We will delete the element of the list."
   ]
  },
  {
   "cell_type": "code",
   "execution_count": 35,
   "id": "2e6c900a-835a-444a-8153-3201770b5d6e",
   "metadata": {},
   "outputs": [],
   "source": [
    "del Shopping_list[0]"
   ]
  },
  {
   "cell_type": "code",
   "execution_count": 36,
   "id": "9cab6e78-c00f-4540-add0-d937f753cf11",
   "metadata": {},
   "outputs": [
    {
     "data": {
      "text/plain": [
       "['jam', 345, 4.5]"
      ]
     },
     "execution_count": 36,
     "metadata": {},
     "output_type": "execute_result"
    }
   ],
   "source": [
    "Shopping_list"
   ]
  },
  {
   "cell_type": "markdown",
   "id": "adce32ab-2cab-4cf1-9873-8d752bd4f279",
   "metadata": {},
   "source": [
    "Question-4 Compare and contrast tuples and lists with examples."
   ]
  },
  {
   "cell_type": "raw",
   "id": "25387459-6d62-4803-891f-3a5b552ee090",
   "metadata": {},
   "source": [
    "Answer-4 \n",
    "\n",
    "1. Tuples- Tuples are almost similar as list in various points: Tuples are ordered collection of elements which stores different type of data structures. It is representated in parenthesis (). \n",
    "- Tuples are immutable which is the elements in the tuples cannot change.\n",
    "- Tuples can be accessed through slicing method and indexing method but it cannot be modified as it is immutable.\n",
    "Examples are below:"
   ]
  },
  {
   "cell_type": "code",
   "execution_count": 1,
   "id": "ac684a59-95d8-4afa-84e1-3618943a35c1",
   "metadata": {},
   "outputs": [],
   "source": [
    "t = (1, 2.4, \"tuple\", \"string\")"
   ]
  },
  {
   "cell_type": "code",
   "execution_count": 2,
   "id": "1eb20a76-42e1-4d9a-9ea1-b002c537cd44",
   "metadata": {},
   "outputs": [
    {
     "data": {
      "text/plain": [
       "tuple"
      ]
     },
     "execution_count": 2,
     "metadata": {},
     "output_type": "execute_result"
    }
   ],
   "source": [
    "type(t)"
   ]
  },
  {
   "cell_type": "code",
   "execution_count": 3,
   "id": "a7d51f6f-746f-43ec-9fdb-f5e524b22efd",
   "metadata": {},
   "outputs": [],
   "source": [
    "#we will access the tuple elements."
   ]
  },
  {
   "cell_type": "code",
   "execution_count": 6,
   "id": "67a1d4b9-e76e-4ed0-b96b-bb98c9d4e272",
   "metadata": {},
   "outputs": [
    {
     "data": {
      "text/plain": [
       "2.4"
      ]
     },
     "execution_count": 6,
     "metadata": {},
     "output_type": "execute_result"
    }
   ],
   "source": [
    "t = (1, 2.4, \"tuple\", \"string\")\n",
    "t[1]   #accessing elements through indexing."
   ]
  },
  {
   "cell_type": "code",
   "execution_count": 7,
   "id": "da20921f-4347-48af-b669-867c15600daf",
   "metadata": {},
   "outputs": [
    {
     "data": {
      "text/plain": [
       "2.4"
      ]
     },
     "execution_count": 7,
     "metadata": {},
     "output_type": "execute_result"
    }
   ],
   "source": [
    "t[-3]"
   ]
  },
  {
   "cell_type": "code",
   "execution_count": 8,
   "id": "a8385dd1-f02e-4446-9112-c458fb01bcb1",
   "metadata": {},
   "outputs": [
    {
     "data": {
      "text/plain": [
       "(1, 2.4, 'tuple', 'string')"
      ]
     },
     "execution_count": 8,
     "metadata": {},
     "output_type": "execute_result"
    }
   ],
   "source": [
    "t = (1, 2.4, \"tuple\", \"string\")\n",
    "t[-5:]  #accessing elements through slicing"
   ]
  },
  {
   "cell_type": "code",
   "execution_count": 10,
   "id": "b8c3b48e-7740-4cab-a7be-1b8de8d755dc",
   "metadata": {},
   "outputs": [
    {
     "ename": "TypeError",
     "evalue": "'tuple' object does not support item assignment",
     "output_type": "error",
     "traceback": [
      "\u001b[0;31m---------------------------------------------------------------------------\u001b[0m",
      "\u001b[0;31mTypeError\u001b[0m                                 Traceback (most recent call last)",
      "Cell \u001b[0;32mIn[10], line 2\u001b[0m\n\u001b[1;32m      1\u001b[0m t \u001b[38;5;241m=\u001b[39m (\u001b[38;5;241m1\u001b[39m, \u001b[38;5;241m2.4\u001b[39m, \u001b[38;5;124m\"\u001b[39m\u001b[38;5;124mtuple\u001b[39m\u001b[38;5;124m\"\u001b[39m, \u001b[38;5;124m\"\u001b[39m\u001b[38;5;124mstring\u001b[39m\u001b[38;5;124m\"\u001b[39m)\n\u001b[0;32m----> 2\u001b[0m \u001b[43mt\u001b[49m\u001b[43m[\u001b[49m\u001b[38;5;241;43m2\u001b[39;49m\u001b[43m]\u001b[49m\u001b[38;5;241m=\u001b[39m \u001b[38;5;124m\"\u001b[39m\u001b[38;5;124mfloat\u001b[39m\u001b[38;5;124m\"\u001b[39m    \u001b[38;5;66;03m#tuples are immutable, cannot be changed.\u001b[39;00m\n",
      "\u001b[0;31mTypeError\u001b[0m: 'tuple' object does not support item assignment"
     ]
    }
   ],
   "source": [
    "t = (1, 2.4, \"tuple\", \"string\")\n",
    "t[2]= \"float\"    #tuples are immutable, cannot be changed."
   ]
  },
  {
   "cell_type": "code",
   "execution_count": 22,
   "id": "652daeae-217e-4330-9af3-2def9f4033f7",
   "metadata": {},
   "outputs": [],
   "source": [
    "t1= ('gold', 1, 456)\n",
    "t2= ('diamond', 2, 567)\n",
    "\n",
    "t3= t1+t2  #membership"
   ]
  },
  {
   "cell_type": "code",
   "execution_count": 23,
   "id": "0fc016e5-b2c7-45ec-b62e-b6f8f7e7321b",
   "metadata": {},
   "outputs": [
    {
     "data": {
      "text/plain": [
       "('gold', 1, 456, 'diamond', 2, 567)"
      ]
     },
     "execution_count": 23,
     "metadata": {},
     "output_type": "execute_result"
    }
   ],
   "source": [
    "t3"
   ]
  },
  {
   "cell_type": "code",
   "execution_count": 26,
   "id": "919ba78c-8404-48b4-a7e7-bcd48f607444",
   "metadata": {},
   "outputs": [
    {
     "data": {
      "text/plain": [
       "6"
      ]
     },
     "execution_count": 26,
     "metadata": {},
     "output_type": "execute_result"
    }
   ],
   "source": [
    "len(t3) #we can check the length of tuple like this."
   ]
  },
  {
   "cell_type": "raw",
   "id": "ede7f236-dced-41d5-9cbc-92443290149c",
   "metadata": {},
   "source": [
    "2. Lists- These are the ordered collections of elements which can store different type of data structure like string, float, int.\n",
    "          - The lists are mutable which means it can get changed. \n",
    "          - The lists can be modified, accessed, and deleted as well.\n",
    "          - examples are below-"
   ]
  },
  {
   "cell_type": "code",
   "execution_count": 11,
   "id": "91f101fa-172a-49e5-8d4d-b7705feac1ec",
   "metadata": {},
   "outputs": [],
   "source": [
    "grocery_list= ['chips', 'cookies', 'veg', 3, 456]"
   ]
  },
  {
   "cell_type": "code",
   "execution_count": 12,
   "id": "7af7a34c-f529-4be9-9c65-96d892679874",
   "metadata": {},
   "outputs": [
    {
     "data": {
      "text/plain": [
       "list"
      ]
     },
     "execution_count": 12,
     "metadata": {},
     "output_type": "execute_result"
    }
   ],
   "source": [
    "type(grocery_list)"
   ]
  },
  {
   "cell_type": "code",
   "execution_count": 13,
   "id": "717c6644-0618-4d60-acdb-de3454e70d60",
   "metadata": {},
   "outputs": [
    {
     "data": {
      "text/plain": [
       "['chips', 'cookies', 'veg', 3, 456]"
      ]
     },
     "execution_count": 13,
     "metadata": {},
     "output_type": "execute_result"
    }
   ],
   "source": [
    "grocery_list[0:5] #accessed through slicing"
   ]
  },
  {
   "cell_type": "code",
   "execution_count": 14,
   "id": "2c16e09c-b48d-4899-81fe-560bcf76af17",
   "metadata": {},
   "outputs": [
    {
     "data": {
      "text/plain": [
       "[456]"
      ]
     },
     "execution_count": 14,
     "metadata": {},
     "output_type": "execute_result"
    }
   ],
   "source": [
    "grocery_list[-1:]"
   ]
  },
  {
   "cell_type": "code",
   "execution_count": 18,
   "id": "7a2bd9b0-82d0-41de-906d-b4ff9f999f98",
   "metadata": {},
   "outputs": [],
   "source": [
    "del grocery_list[2] #deleted the element in list which was not happening in tuples."
   ]
  },
  {
   "cell_type": "code",
   "execution_count": 17,
   "id": "c542ca63-b441-495c-a544-6d56af14ecb2",
   "metadata": {},
   "outputs": [
    {
     "data": {
      "text/plain": [
       "['chips', 'cookies', 3, 456]"
      ]
     },
     "execution_count": 17,
     "metadata": {},
     "output_type": "execute_result"
    }
   ],
   "source": [
    "grocery_list"
   ]
  },
  {
   "cell_type": "markdown",
   "id": "5f7b44cf-fd3b-4413-80e7-0286e94b374e",
   "metadata": {},
   "source": [
    "Question 5- Describe the key features of sets and provide examples of their use."
   ]
  },
  {
   "cell_type": "raw",
   "id": "1f1574d9-4a58-413c-91b8-275fb893f476",
   "metadata": {},
   "source": [
    "Answer5- Sets are unordered unique collection of elements and due to that, indexing and slicing is not possible because\n",
    "it is unordered. Curly brackets are used in sets. It is unique because it does not store any duplicate elements.\n",
    "The key features of sets are: \n",
    "-sets can be added , modified and removed but cannot be accessed through slicing and indexing because it is unordered and unique collection of elements.\n",
    "Examples:"
   ]
  },
  {
   "cell_type": "code",
   "execution_count": 27,
   "id": "6457346c-14a4-418e-b314-9b8bf9339356",
   "metadata": {},
   "outputs": [],
   "source": [
    "s= {\"tulika\"}"
   ]
  },
  {
   "cell_type": "code",
   "execution_count": 28,
   "id": "155f7ab9-0415-4416-92f3-cd1a86734329",
   "metadata": {},
   "outputs": [
    {
     "data": {
      "text/plain": [
       "set"
      ]
     },
     "execution_count": 28,
     "metadata": {},
     "output_type": "execute_result"
    }
   ],
   "source": [
    "type(s)"
   ]
  },
  {
   "cell_type": "raw",
   "id": "e4e04a85-b67f-4c84-a376-017e0f02c714",
   "metadata": {},
   "source": [
    "The use case of set is that we can have a unique collection of set with no duplicates when there is a\n",
    "requirement to check the things which have already happened.\n",
    "For example- Voter ID's.\n",
    "Through set method, we can check is the new voter is comping or again any duplicate is coming to vote."
   ]
  },
  {
   "cell_type": "code",
   "execution_count": 3,
   "id": "70e17ca4-e0b1-46ac-8b8c-9993d5c0cb98",
   "metadata": {},
   "outputs": [],
   "source": [
    "Voters= {111, 222, 222, 444, 444, 666, 777, 888}"
   ]
  },
  {
   "cell_type": "code",
   "execution_count": 4,
   "id": "b710cc6d-e845-43e7-b9d8-f0855eb91f81",
   "metadata": {},
   "outputs": [
    {
     "data": {
      "text/plain": [
       "{111, 222, 444, 666, 777, 888}"
      ]
     },
     "execution_count": 4,
     "metadata": {},
     "output_type": "execute_result"
    }
   ],
   "source": [
    "Voters #no duplicate elements executed."
   ]
  },
  {
   "cell_type": "raw",
   "id": "3ee01ce9-9e8c-42f4-8431-1f4834b91eec",
   "metadata": {},
   "source": [
    "Sets have 4 operations:\n",
    "1. Union operations- if there are 2 pairs of sets, all the elements are included in this. It is denoted as \n",
    "A|B\n",
    "\n",
    "2. Intersection operations: Elements from both the elements which are intersected and present in both sets.It is\n",
    "denoted as A&B.\n",
    "\n",
    "3. Difference operations: All the elements which are present in first set. It is denoted as A-B.\n",
    "\n",
    "4. Symmetric difference operations: It return all the elements other than the common elements in both the sets.\n",
    "It is denoted as A^B.\n",
    "\n",
    "Examples:"
   ]
  },
  {
   "cell_type": "code",
   "execution_count": 6,
   "id": "021eac4b-a689-4421-8ab6-a8754bd30f5d",
   "metadata": {},
   "outputs": [
    {
     "data": {
      "text/plain": [
       "{2, 3, 4, 5, 6, 7}"
      ]
     },
     "execution_count": 6,
     "metadata": {},
     "output_type": "execute_result"
    }
   ],
   "source": [
    "#UNION  #executed all the elements.\n",
    "\n",
    "s1 = { 2, 3, 4, 5}\n",
    "s2 = { 3, 6, 4, 7}\n",
    "\n",
    "s1|s2"
   ]
  },
  {
   "cell_type": "code",
   "execution_count": 8,
   "id": "af1cd5c9-76a3-46d9-bb45-ac50deede3f5",
   "metadata": {},
   "outputs": [
    {
     "data": {
      "text/plain": [
       "{3, 4}"
      ]
     },
     "execution_count": 8,
     "metadata": {},
     "output_type": "execute_result"
    }
   ],
   "source": [
    "# intersection\n",
    "s1 = { 2, 3, 4, 5}\n",
    "s2 = { 3, 6, 4, 7}\n",
    "\n",
    "s1&s2 # these 2 are present in both sets."
   ]
  },
  {
   "cell_type": "code",
   "execution_count": 10,
   "id": "46d9fb25-a8de-4d73-be8c-2eb78d154b82",
   "metadata": {},
   "outputs": [
    {
     "data": {
      "text/plain": [
       "{2, 5}"
      ]
     },
     "execution_count": 10,
     "metadata": {},
     "output_type": "execute_result"
    }
   ],
   "source": [
    "#Difference\n",
    "s1 = { 2, 3, 4, 5}\n",
    "s2 = { 3, 6, 4, 7}\n",
    "\n",
    "s1-s2"
   ]
  },
  {
   "cell_type": "code",
   "execution_count": 11,
   "id": "84f68547-b37b-4fc1-b8c9-b07c76b015a5",
   "metadata": {},
   "outputs": [
    {
     "data": {
      "text/plain": [
       "{2, 5, 6, 7}"
      ]
     },
     "execution_count": 11,
     "metadata": {},
     "output_type": "execute_result"
    }
   ],
   "source": [
    "#symmetric\n",
    "\n",
    "s1 = { 2, 3, 4, 5}\n",
    "s2 = { 3, 6, 4, 7}\n",
    "\n",
    "s1^s2"
   ]
  },
  {
   "cell_type": "markdown",
   "id": "6e23f799-fe9b-4039-8511-edb1c2a0b936",
   "metadata": {},
   "source": [
    "Question-6  Discuss the use cases of tuples and sets in Python programming."
   ]
  },
  {
   "cell_type": "raw",
   "id": "eaaed607-d2aa-44ef-8ff2-7015c6639390",
   "metadata": {},
   "source": [
    "Answer-6 \n",
    "Use case of tuples are DATA STRUCTURE WHERE YOU DONT WANT TO MODIFY THE DATA.\n",
    "Example:"
   ]
  },
  {
   "cell_type": "code",
   "execution_count": 12,
   "id": "8e077ccb-0bc7-4173-a13e-1ecbf4db138e",
   "metadata": {},
   "outputs": [],
   "source": [
    "Employee_id= (123, 456, 678, 789)"
   ]
  },
  {
   "cell_type": "code",
   "execution_count": 13,
   "id": "f612d4bc-850c-432f-84dc-95a93cb38a2d",
   "metadata": {},
   "outputs": [
    {
     "ename": "TypeError",
     "evalue": "'tuple' object does not support item assignment",
     "output_type": "error",
     "traceback": [
      "\u001b[0;31m---------------------------------------------------------------------------\u001b[0m",
      "\u001b[0;31mTypeError\u001b[0m                                 Traceback (most recent call last)",
      "Cell \u001b[0;32mIn[13], line 1\u001b[0m\n\u001b[0;32m----> 1\u001b[0m \u001b[43mEmployee_id\u001b[49m\u001b[43m[\u001b[49m\u001b[38;5;241;43m1\u001b[39;49m\u001b[43m]\u001b[49m\u001b[38;5;241m=\u001b[39m \u001b[38;5;241m666\u001b[39m\n",
      "\u001b[0;31mTypeError\u001b[0m: 'tuple' object does not support item assignment"
     ]
    }
   ],
   "source": [
    "Employee_id[1]= 666"
   ]
  },
  {
   "cell_type": "code",
   "execution_count": 14,
   "id": "88b8ab41-797d-4569-80d9-0f1ece4fc665",
   "metadata": {},
   "outputs": [],
   "source": [
    "#tuple will not change"
   ]
  },
  {
   "cell_type": "raw",
   "id": "592d212a-9da0-40db-a463-12c7d0279959",
   "metadata": {},
   "source": [
    "Use case of set- if there is a grocery list which includes verious items in it and it has been provided to you\n",
    "without any pre-check if the items are repeated in the list or not, with the help of set, we can make a list \n",
    "with only unique elements included in it and not the duplicate one.\n",
    "Example:"
   ]
  },
  {
   "cell_type": "code",
   "execution_count": 15,
   "id": "7d537c5b-1dde-4457-9562-1bacd0d24b67",
   "metadata": {},
   "outputs": [],
   "source": [
    "Grocery_list= {'fruits', 'pencil', 'pencil', 'pencil', 'vegies', 'vegies', 'jar', 'mug', 'mug'}"
   ]
  },
  {
   "cell_type": "code",
   "execution_count": 16,
   "id": "b0effae1-0a5c-4739-91ac-7eca5dd47b93",
   "metadata": {},
   "outputs": [
    {
     "data": {
      "text/plain": [
       "{'fruits', 'jar', 'mug', 'pencil', 'vegies'}"
      ]
     },
     "execution_count": 16,
     "metadata": {},
     "output_type": "execute_result"
    }
   ],
   "source": [
    "Grocery_list #no duplicate elements included."
   ]
  },
  {
   "cell_type": "markdown",
   "id": "cb0a0bd4-a0c5-490f-8164-a504ccd363d1",
   "metadata": {},
   "source": [
    "Question 7- Describe how to add, modify and delete items in a dictionary with examples.\n"
   ]
  },
  {
   "cell_type": "raw",
   "id": "86d0a72c-4314-49e4-8005-59b6d492b2e3",
   "metadata": {},
   "source": [
    "Answer 7-  The ditionary is a data structure that stores the data in key-value pairs. \n",
    "every key has their own value and keys are immutable which cannot be changed. It is denoted as \n",
    "curly brackets. {}"
   ]
  },
  {
   "cell_type": "code",
   "execution_count": 1,
   "id": "23b2bd2a-9f3b-48b7-89b6-a59c81161c05",
   "metadata": {},
   "outputs": [],
   "source": [
    "d = {\"name\": \"Tulika\", \"Course\" : \"data analytics\"}"
   ]
  },
  {
   "cell_type": "code",
   "execution_count": 2,
   "id": "caba4228-4b66-4865-b15d-fd6d1199102f",
   "metadata": {},
   "outputs": [
    {
     "data": {
      "text/plain": [
       "{'name': 'Tulika', 'Course': 'data analytics'}"
      ]
     },
     "execution_count": 2,
     "metadata": {},
     "output_type": "execute_result"
    }
   ],
   "source": [
    "d"
   ]
  },
  {
   "cell_type": "code",
   "execution_count": 4,
   "id": "59b7fe35-e695-4ce8-9779-aa252249d5b3",
   "metadata": {},
   "outputs": [
    {
     "data": {
      "text/plain": [
       "dict"
      ]
     },
     "execution_count": 4,
     "metadata": {},
     "output_type": "execute_result"
    }
   ],
   "source": [
    "type(d)"
   ]
  },
  {
   "cell_type": "code",
   "execution_count": 7,
   "id": "014511f3-1832-4e80-8829-f0953c99c7fa",
   "metadata": {},
   "outputs": [
    {
     "data": {
      "text/plain": [
       "'Tulika'"
      ]
     },
     "execution_count": 7,
     "metadata": {},
     "output_type": "execute_result"
    }
   ],
   "source": [
    "d['name']"
   ]
  },
  {
   "cell_type": "code",
   "execution_count": 6,
   "id": "fef99441-c075-4f75-addf-d446e6d3dad4",
   "metadata": {},
   "outputs": [
    {
     "ename": "KeyError",
     "evalue": "'Tulika'",
     "output_type": "error",
     "traceback": [
      "\u001b[0;31m---------------------------------------------------------------------------\u001b[0m",
      "\u001b[0;31mKeyError\u001b[0m                                  Traceback (most recent call last)",
      "Cell \u001b[0;32mIn[6], line 1\u001b[0m\n\u001b[0;32m----> 1\u001b[0m \u001b[43md\u001b[49m\u001b[43m[\u001b[49m\u001b[38;5;124;43m'\u001b[39;49m\u001b[38;5;124;43mTulika\u001b[39;49m\u001b[38;5;124;43m'\u001b[39;49m\u001b[43m]\u001b[49m\n",
      "\u001b[0;31mKeyError\u001b[0m: 'Tulika'"
     ]
    }
   ],
   "source": [
    "d['Tulika']"
   ]
  },
  {
   "cell_type": "code",
   "execution_count": 8,
   "id": "1dfbdc78-5caf-4503-b7dd-0df3e5a9f242",
   "metadata": {},
   "outputs": [],
   "source": [
    "# we will add the items in the dictionary.\n",
    "\n",
    "d = {\"name\": \"Tulika\", \"Course\" : \"data analytics\"}"
   ]
  },
  {
   "cell_type": "code",
   "execution_count": 9,
   "id": "4f7f6071-442d-4a72-a26b-9693eaf44e5b",
   "metadata": {},
   "outputs": [],
   "source": [
    "d[\"level\"] = \"beginner\""
   ]
  },
  {
   "cell_type": "code",
   "execution_count": 10,
   "id": "9b914c5e-07af-4bc2-b217-1839b2fe6578",
   "metadata": {},
   "outputs": [
    {
     "data": {
      "text/plain": [
       "{'name': 'Tulika', 'Course': 'data analytics', 'level': 'beginner'}"
      ]
     },
     "execution_count": 10,
     "metadata": {},
     "output_type": "execute_result"
    }
   ],
   "source": [
    "d"
   ]
  },
  {
   "cell_type": "code",
   "execution_count": 11,
   "id": "7477d0d0-c48d-45d6-8928-b4b65aedebfb",
   "metadata": {},
   "outputs": [],
   "source": [
    "#we will delete the items in the dictionary\n",
    "d = {'name': 'Tulika', 'Course': 'data analytics', 'level': 'beginner'}\n"
   ]
  },
  {
   "cell_type": "code",
   "execution_count": 16,
   "id": "5784f596-c23b-40d8-9858-772bf039ed08",
   "metadata": {},
   "outputs": [],
   "source": [
    "del d['level']"
   ]
  },
  {
   "cell_type": "code",
   "execution_count": 17,
   "id": "6cb99504-8190-4826-997d-91c105ee56a3",
   "metadata": {},
   "outputs": [
    {
     "data": {
      "text/plain": [
       "{'name': 'Tulika', 'Course': 'data analytics'}"
      ]
     },
     "execution_count": 17,
     "metadata": {},
     "output_type": "execute_result"
    }
   ],
   "source": [
    "d"
   ]
  },
  {
   "cell_type": "code",
   "execution_count": 5,
   "id": "85606790-57bb-4d6a-9176-a13c33e0155a",
   "metadata": {},
   "outputs": [],
   "source": [
    "#we will modify the items\n",
    "\n",
    "d = {'name': 'Tulika', 'Course': 'data analytics', 'level': 'beginner'}\n",
    "\n",
    "d.clear()"
   ]
  },
  {
   "cell_type": "code",
   "execution_count": 6,
   "id": "7ed03d68-5aee-4835-bb59-f9b7aa3449cf",
   "metadata": {},
   "outputs": [
    {
     "data": {
      "text/plain": [
       "{}"
      ]
     },
     "execution_count": 6,
     "metadata": {},
     "output_type": "execute_result"
    }
   ],
   "source": [
    "d"
   ]
  },
  {
   "cell_type": "code",
   "execution_count": 7,
   "id": "21a8d68e-8a12-4a70-a034-19d2eb114980",
   "metadata": {},
   "outputs": [
    {
     "data": {
      "text/plain": [
       "dict_keys(['name', 'Course', 'level'])"
      ]
     },
     "execution_count": 7,
     "metadata": {},
     "output_type": "execute_result"
    }
   ],
   "source": [
    "#if we want keys & values seprately.\n",
    "\n",
    "d = {'name': 'Tulika', 'Course': 'data analytics', 'level': 'beginner'}\n",
    "d.keys()"
   ]
  },
  {
   "cell_type": "code",
   "execution_count": 8,
   "id": "ee6aa90e-9cc8-4d87-8b66-1d7b08841de1",
   "metadata": {},
   "outputs": [
    {
     "data": {
      "text/plain": [
       "dict_values(['Tulika', 'data analytics', 'beginner'])"
      ]
     },
     "execution_count": 8,
     "metadata": {},
     "output_type": "execute_result"
    }
   ],
   "source": [
    "d.values()"
   ]
  },
  {
   "cell_type": "markdown",
   "id": "c7eaede2-5bb1-414b-beae-2c596baa213c",
   "metadata": {},
   "source": [
    "Qoestion 8-  Discuss the importance of dictionary keys being immutable and provide examples."
   ]
  },
  {
   "cell_type": "raw",
   "id": "60883180-b49b-4568-965b-8a421e197ffd",
   "metadata": {},
   "source": [
    "Answer- Dictionary keys are important because in dictionary there is no indexing or negative indexing method\n",
    "is used, instead we use key as index values. Also we can access values using key but not vice versa and this \n",
    "helps us to take out the exact value of that particular we are searching for.\n",
    "\n",
    "Examples:"
   ]
  },
  {
   "cell_type": "code",
   "execution_count": 9,
   "id": "48c8ce90-a547-487d-8c1e-cff69d601367",
   "metadata": {},
   "outputs": [],
   "source": [
    "d = {\"tulika\": 11 , \"soni\": 22, \"reena\": 33, \"oggy\": 44, \"bluie\": 66}"
   ]
  },
  {
   "cell_type": "code",
   "execution_count": 11,
   "id": "134df79a-af20-45e4-a2a2-20abcaca346f",
   "metadata": {},
   "outputs": [
    {
     "data": {
      "text/plain": [
       "dict_values([11, 22, 33, 44, 66])"
      ]
     },
     "execution_count": 11,
     "metadata": {},
     "output_type": "execute_result"
    }
   ],
   "source": [
    "d.values()"
   ]
  },
  {
   "cell_type": "code",
   "execution_count": 12,
   "id": "1433e2fd-4942-43d0-bcdf-316002f5b4d3",
   "metadata": {},
   "outputs": [
    {
     "data": {
      "text/plain": [
       "dict_keys(['tulika', 'soni', 'reena', 'oggy', 'bluie'])"
      ]
     },
     "execution_count": 12,
     "metadata": {},
     "output_type": "execute_result"
    }
   ],
   "source": [
    "d.keys()"
   ]
  }
 ],
 "metadata": {
  "kernelspec": {
   "display_name": "Python 3 (ipykernel)",
   "language": "python",
   "name": "python3"
  },
  "language_info": {
   "codemirror_mode": {
    "name": "ipython",
    "version": 3
   },
   "file_extension": ".py",
   "mimetype": "text/x-python",
   "name": "python",
   "nbconvert_exporter": "python",
   "pygments_lexer": "ipython3",
   "version": "3.10.8"
  }
 },
 "nbformat": 4,
 "nbformat_minor": 5
}
